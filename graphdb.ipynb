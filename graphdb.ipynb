{
  "nbformat": 4,
  "nbformat_minor": 0,
  "metadata": {
    "colab": {
      "provenance": [],
      "gpuType": "T4",
      "mount_file_id": "1vReKcjN81X2qMFjrRxcj4cJhQgUyA3hd",
      "authorship_tag": "ABX9TyOZ0JqQXn3afMHWl94jpeTx",
      "include_colab_link": true
    },
    "kernelspec": {
      "name": "python3",
      "display_name": "Python 3"
    },
    "language_info": {
      "name": "python"
    },
    "accelerator": "GPU"
  },
  "cells": [
    {
      "cell_type": "markdown",
      "metadata": {
        "id": "view-in-github",
        "colab_type": "text"
      },
      "source": [
        "<a href=\"https://colab.research.google.com/github/danebencedavid/NLP-A-Agent/blob/master/graphdb.ipynb\" target=\"_parent\"><img src=\"https://colab.research.google.com/assets/colab-badge.svg\" alt=\"Open In Colab\"/></a>"
      ]
    },
    {
      "cell_type": "code",
      "execution_count": 63,
      "metadata": {
        "id": "YDr8CL39lYpx"
      },
      "outputs": [],
      "source": [
        "import pandas as pd\n",
        "import numpy as np\n",
        "import re\n",
        "from collections import Counter\n",
        "import os\n",
        "import requests\n",
        "import time\n",
        "import html\n",
        "import urllib.parse\n",
        "from nltk.corpus import stopwords"
      ]
    },
    {
      "cell_type": "code",
      "source": [
        "import nltk\n",
        "nltk.download('stopwords')\n",
        "\n",
        "stop_words = set(stopwords.words('english'))"
      ],
      "metadata": {
        "colab": {
          "base_uri": "https://localhost:8080/"
        },
        "id": "L5XEB4NHVDRz",
        "outputId": "02373982-b223-45c7-a806-6e9e91708bf1"
      },
      "execution_count": 64,
      "outputs": [
        {
          "output_type": "stream",
          "name": "stderr",
          "text": [
            "[nltk_data] Downloading package stopwords to /root/nltk_data...\n",
            "[nltk_data]   Unzipping corpora/stopwords.zip.\n"
          ]
        }
      ]
    },
    {
      "cell_type": "code",
      "source": [
        "df = pd.read_csv(\"/content/drive/MyDrive/relevant_papers_4.csv\")"
      ],
      "metadata": {
        "id": "CxTJ1Y1VlpF_"
      },
      "execution_count": null,
      "outputs": []
    },
    {
      "cell_type": "code",
      "source": [
        "df.columns"
      ],
      "metadata": {
        "colab": {
          "base_uri": "https://localhost:8080/"
        },
        "id": "luZwa-Txmdtx",
        "outputId": "2bc65c8d-bde3-4660-c524-08e48126b6cc"
      },
      "execution_count": null,
      "outputs": [
        {
          "output_type": "execute_result",
          "data": {
            "text/plain": [
              "Index(['cord_uid', 'sha', 'source_x', 'title', 'doi', 'pmcid', 'pubmed_id',\n",
              "       'license', 'abstract', 'publish_time', 'authors', 'journal', 'mag_id',\n",
              "       'who_covidence_id', 'arxiv_id', 'pdf_json_files', 'pmc_json_files',\n",
              "       'url', 's2_id', 'smoking_score', 'covid_score', 'combined_score'],\n",
              "      dtype='object')"
            ]
          },
          "metadata": {},
          "execution_count": 9
        }
      ]
    },
    {
      "cell_type": "code",
      "source": [
        "new_papers_dois = [\n",
        "    '10.1371/journal.pone.0287794',\n",
        "    '10.4103/ecdt.ecdt_106_22',\n",
        "    '10.1186/s12887-025-05434-w',\n",
        "    '10.3390/ijerph20042768',\n",
        "    '10.3390/healthcare10020303',\n",
        "    '10.1371/journal.pone.0295040',\n",
        "    '10.3390/covid3100109',\n",
        "    '10.32920/ihtp.v4i2.2148',\n",
        "    '10.18203/2320-6012.ijrms20231341',\n",
        "    '10.3390/brainsci14040377',\n",
        "    '10.37796/2211-8039.1429',\n",
        "    '10.18502/ijdo.v15i3.13739',\n",
        "    '10.1136/bmjopen-2021-052777',\n",
        "    '10.21203/rs.3.rs-3849240/v1',\n",
        "    '10.1017/gmh.2023.47',\n",
        "    '10.1007/s13300-024-01681-9'\n",
        "]"
      ],
      "metadata": {
        "id": "U7vFYuyWpsVG"
      },
      "execution_count": null,
      "outputs": []
    },
    {
      "cell_type": "code",
      "source": [
        "new_rows = []"
      ],
      "metadata": {
        "id": "nIiSgkHxq5xC"
      },
      "execution_count": null,
      "outputs": []
    },
    {
      "cell_type": "code",
      "source": [
        "for doi in new_papers_dois:\n",
        "    doi = doi.lower().strip()\n",
        "    openalex_url = f\"https://api.openalex.org/works/doi:{doi}\"\n",
        "\n",
        "    response = requests.get(openalex_url)\n",
        "    if response.status_code != 200:\n",
        "        print(f\"Failed to fetch info for DOI: {doi}\")\n",
        "        continue\n",
        "\n",
        "    data = response.json()\n",
        "\n",
        "    new_rows.append({\n",
        "        'cord_uid': data.get('id', ''),\n",
        "        'title': data.get('title', ''),\n",
        "        'doi': data.get('doi', ''),\n",
        "        'abstract': data.get('abstract', ''),\n",
        "        'authors': \"; \".join([auth['author']['display_name'] for auth in data.get('authorships', [])]),\n",
        "        'journal': data.get('host_venue', {}).get('display_name', ''),\n",
        "        'publish_time': data.get('publication_date', ''),\n",
        "    })"
      ],
      "metadata": {
        "id": "beW7LgspqzZh"
      },
      "execution_count": null,
      "outputs": []
    },
    {
      "cell_type": "code",
      "source": [
        "new_df = pd.DataFrame(new_rows)"
      ],
      "metadata": {
        "id": "8NF_mloaq8tu"
      },
      "execution_count": null,
      "outputs": []
    },
    {
      "cell_type": "code",
      "source": [
        "full_df = pd.concat([df, new_df], ignore_index=True)"
      ],
      "metadata": {
        "id": "mxFZFCforDQZ"
      },
      "execution_count": null,
      "outputs": []
    },
    {
      "cell_type": "code",
      "source": [
        "full_df.to_csv('/content/drive/MyDrive/fulldf_papers_5.csv', index=False)"
      ],
      "metadata": {
        "id": "fr82qUmxtWSV"
      },
      "execution_count": null,
      "outputs": []
    },
    {
      "cell_type": "code",
      "source": [
        "papers = pd.read_csv('/content/drive/MyDrive/fulldf_papers.csv')"
      ],
      "metadata": {
        "id": "AyCJmiv5tRmN"
      },
      "execution_count": 24,
      "outputs": []
    },
    {
      "cell_type": "code",
      "source": [
        "def clean_cord_uid(uid):\n",
        "  if isinstance(uid, str) and \"https://openalex.org/\" in uid:\n",
        "      return uid.split(\"/\")[-1]\n",
        "  return uid"
      ],
      "metadata": {
        "id": "7I7XzTos2B0z"
      },
      "execution_count": 25,
      "outputs": []
    },
    {
      "cell_type": "code",
      "source": [
        "papers['cord_uid'] = papers['cord_uid'].apply(clean_cord_uid)"
      ],
      "metadata": {
        "id": "Nu__uyk-2ayF"
      },
      "execution_count": 26,
      "outputs": []
    },
    {
      "cell_type": "code",
      "source": [
        "duplicate_title_count = papers['title'].duplicated().sum()"
      ],
      "metadata": {
        "id": "_Illx8iy23C_"
      },
      "execution_count": 27,
      "outputs": []
    },
    {
      "cell_type": "code",
      "source": [
        "print(f\"Number of duplicate titles: {duplicate_title_count}\")"
      ],
      "metadata": {
        "colab": {
          "base_uri": "https://localhost:8080/"
        },
        "id": "7fIhI4tT3DOc",
        "outputId": "7475f54b-acd2-4e32-fa98-56da8387299a"
      },
      "execution_count": 28,
      "outputs": [
        {
          "output_type": "stream",
          "name": "stdout",
          "text": [
            "Number of duplicate titles: 9\n"
          ]
        }
      ]
    },
    {
      "cell_type": "code",
      "source": [
        "papers = papers.sort_values(by='doi',na_position='first')"
      ],
      "metadata": {
        "id": "KvhonVAY3SBf"
      },
      "execution_count": 29,
      "outputs": []
    },
    {
      "cell_type": "code",
      "source": [
        "papers = papers.drop_duplicates(subset='title', keep='last')"
      ],
      "metadata": {
        "id": "7IH02w933jFb"
      },
      "execution_count": 30,
      "outputs": []
    },
    {
      "cell_type": "code",
      "source": [
        "duplicate_title_count = papers['title'].duplicated().sum()\n",
        "print(f\"Number of duplicate titles: {duplicate_title_count}\")"
      ],
      "metadata": {
        "colab": {
          "base_uri": "https://localhost:8080/"
        },
        "id": "wQzH1zv93qJ4",
        "outputId": "6d59528d-7637-43f6-fb7e-351e5a446a1d"
      },
      "execution_count": 31,
      "outputs": [
        {
          "output_type": "stream",
          "name": "stdout",
          "text": [
            "Number of duplicate titles: 0\n"
          ]
        }
      ]
    },
    {
      "cell_type": "code",
      "source": [
        "len(papers['doi'])"
      ],
      "metadata": {
        "colab": {
          "base_uri": "https://localhost:8080/"
        },
        "id": "bflhVP2sPU0e",
        "outputId": "ba35a9a4-e918-4036-9212-096c8f15861b"
      },
      "execution_count": 32,
      "outputs": [
        {
          "output_type": "execute_result",
          "data": {
            "text/plain": [
              "51"
            ]
          },
          "metadata": {},
          "execution_count": 32
        }
      ]
    },
    {
      "cell_type": "code",
      "source": [
        "papers = papers[papers['doi'].notnull()]"
      ],
      "metadata": {
        "id": "XtF-zUxo38Nk"
      },
      "execution_count": 33,
      "outputs": []
    },
    {
      "cell_type": "code",
      "source": [
        "len(papers['doi'])"
      ],
      "metadata": {
        "colab": {
          "base_uri": "https://localhost:8080/"
        },
        "id": "HnryDlZZ4sxf",
        "outputId": "60ac32c2-5400-45c3-9d10-d6f3dfbc9b95"
      },
      "execution_count": 34,
      "outputs": [
        {
          "output_type": "execute_result",
          "data": {
            "text/plain": [
              "42"
            ]
          },
          "metadata": {},
          "execution_count": 34
        }
      ]
    },
    {
      "cell_type": "code",
      "source": [
        "all_extended_papers = []"
      ],
      "metadata": {
        "id": "hTmJlDnKQxD9"
      },
      "execution_count": 35,
      "outputs": []
    },
    {
      "cell_type": "code",
      "source": [
        "papers.columns"
      ],
      "metadata": {
        "colab": {
          "base_uri": "https://localhost:8080/"
        },
        "id": "5gO3XHzrHb5B",
        "outputId": "93489f13-bab7-4140-b4d9-4468e838c769"
      },
      "execution_count": 36,
      "outputs": [
        {
          "output_type": "execute_result",
          "data": {
            "text/plain": [
              "Index(['cord_uid', 'sha', 'source_x', 'title', 'doi', 'pmcid', 'pubmed_id',\n",
              "       'license', 'abstract', 'publish_time', 'authors', 'journal', 'mag_id',\n",
              "       'who_covidence_id', 'arxiv_id', 'pdf_json_files', 'pmc_json_files',\n",
              "       'url', 's2_id', 'smoking_score', 'covid_score', 'combined_score',\n",
              "       'diabetes_score'],\n",
              "      dtype='object')"
            ]
          },
          "metadata": {},
          "execution_count": 36
        }
      ]
    },
    {
      "cell_type": "code",
      "source": [
        "def reconstruct_abstract(abstract_inverted_index):\n",
        "    \"\"\"Reconstructs an abstract string from an OpenAlex inverted index.\"\"\"\n",
        "    if not abstract_inverted_index:\n",
        "        return \"\"\n",
        "    max_index = max((idx for indices in abstract_inverted_index.values() for idx in indices), default=-1)\n",
        "    abstract_words = [\"\"] * (max_index + 1)\n",
        "    for word, indices in abstract_inverted_index.items():\n",
        "        for idx in indices:\n",
        "            abstract_words[idx] = word\n",
        "    return \" \".join(abstract_words)"
      ],
      "metadata": {
        "id": "W0lfPBE2ciHT"
      },
      "execution_count": 37,
      "outputs": []
    },
    {
      "cell_type": "code",
      "source": [
        "def fetch_openalex_data(doi):\n",
        "    \"\"\"Fetches data from OpenAlex for a given DOI.\"\"\"\n",
        "    doi = doi.lower().strip()\n",
        "    openalex_url = f\"https://api.openalex.org/works/doi:{doi}\"\n",
        "    response = requests.get(openalex_url)\n",
        "    if response.status_code != 200:\n",
        "        print(f\"  -> Failed to fetch OpenAlex data for DOI: {doi}\")\n",
        "        return None\n",
        "    return response.json()"
      ],
      "metadata": {
        "id": "pAKEwP8jLcr5"
      },
      "execution_count": 38,
      "outputs": []
    },
    {
      "cell_type": "code",
      "source": [
        "def process_paper(row):\n",
        "    \"\"\"Processes a single paper and its citing papers.\"\"\"\n",
        "    extended_papers = []\n",
        "    doi = row.get('doi', None)\n",
        "    if pd.isna(doi) or not doi:\n",
        "        print(f\"  -> DOI is missing for paper: {row['cord_uid']}\")\n",
        "        return []\n",
        "\n",
        "    openalex_data = fetch_openalex_data(doi)\n",
        "    if not openalex_data:\n",
        "        return []\n",
        "    openalex_id = openalex_data.get('id', None)\n",
        "    if openalex_id is None:\n",
        "        print(f\"  -> No OpenAlex ID found for DOI: {doi}\")\n",
        "        return []\n",
        "\n",
        "    paper_data = {\n",
        "        'cord_uid': row.get('cord_uid', ''),\n",
        "        'openalex_id': openalex_id,\n",
        "        'title': openalex_data.get('title', ''),\n",
        "        'doi': openalex_data.get('doi', ''),\n",
        "        'abstract': reconstruct_abstract(openalex_data.get('abstract_inverted_index', {})),\n",
        "        'authors': \"; \".join([auth.get('author', {}).get('display_name', '') for auth in openalex_data.get('authorships', [])]),\n",
        "        'journal': openalex_data.get('host_venue', {}).get('display_name', ''),\n",
        "        'publish_time': openalex_data.get('publication_date', ''),\n",
        "        'cited_id': None\n",
        "    }\n",
        "    extended_papers.append(paper_data)\n",
        "\n",
        "    cited_by_count = openalex_data.get('cited_by_count', 0)\n",
        "    print(f\"  -> Found {cited_by_count} papers that cited this paper...\")\n",
        "\n",
        "    if cited_by_count > 0:\n",
        "        citing_query_url = f\"https://api.openalex.org/works?filter=cites:{openalex_id}\"\n",
        "        citing_response = requests.get(citing_query_url)\n",
        "        if citing_response.status_code == 200:\n",
        "            citing_data = citing_response.json()\n",
        "            citing_papers = citing_data.get('results', [])\n",
        "            print(f\"    -> Retrieved {len(citing_papers)} citing papers.\")\n",
        "            for citing_paper in citing_papers:\n",
        "                publish_time = citing_paper.get('publication_date', '')\n",
        "                if publish_time and publish_time >= \"2022-01-01\":\n",
        "                    citing_paper_data = {\n",
        "                        'cord_uid': citing_paper.get('id', ''),\n",
        "                        'openalex_id': citing_paper.get('id', ''),\n",
        "                        'title': citing_paper.get('title', ''),\n",
        "                        'doi': citing_paper.get('doi', ''),\n",
        "                        'abstract': reconstruct_abstract(citing_paper.get('abstract_inverted_index', {})),\n",
        "                        'authors': \"; \".join([auth.get('author', {}).get('display_name', '') for auth in citing_paper.get('authorships', [])]),\n",
        "                        'journal': citing_paper.get('host_venue', {}).get('display_name', ''),\n",
        "                        'publish_time': publish_time,\n",
        "                        'cited_id': openalex_data.get('doi',\n",
        "                                                    '')\n",
        "                    }\n",
        "                    extended_papers.append(citing_paper_data)\n",
        "        else:\n",
        "            print(f\"  -> Failed to fetch citing papers for OpenAlex ID: {openalex_id}\")\n",
        "    return extended_papers"
      ],
      "metadata": {
        "id": "nnTWBsR1QmqP"
      },
      "execution_count": 39,
      "outputs": []
    },
    {
      "cell_type": "code",
      "source": [
        "print(f\"Total papers to process: {len(papers)}\")\n",
        "for idx, row in papers.iterrows():\n",
        "    print(f\"Processing paper {idx + 1}/{len(papers)}: {row['title'][:41]}...\")\n",
        "    extended_papers = process_paper(row)\n",
        "    all_extended_papers.extend(extended_papers)\n",
        "    time.sleep(1)\n",
        "expanded_df = pd.DataFrame(all_extended_papers)\n",
        "print(expanded_df.head())"
      ],
      "metadata": {
        "colab": {
          "base_uri": "https://localhost:8080/"
        },
        "id": "CaaM7bV3QpqM",
        "outputId": "bea991c4-1b78-4a2a-f417-dcd8dbd3fa87"
      },
      "execution_count": 40,
      "outputs": [
        {
          "output_type": "stream",
          "name": "stdout",
          "text": [
            "Total papers to process: 42\n",
            "Processing paper 7/42: CD-sACE2 Inclusion Compounds: An Effectiv...\n",
            "  -> Found 44 papers that cited this paper...\n",
            "    -> Retrieved 25 citing papers.\n",
            "Processing paper 15/42: Measurement of Angiotensin Converting Enz...\n",
            "  -> Found 42 papers that cited this paper...\n",
            "    -> Retrieved 25 citing papers.\n",
            "Processing paper 28/42: What’s new in the renin-angiotensin syste...\n",
            "  -> Found 147 papers that cited this paper...\n",
            "    -> Retrieved 25 citing papers.\n",
            "Processing paper 59/42: The interplay of DAMPs, TLR4, and proinfl...\n",
            "  -> Found 71 papers that cited this paper...\n",
            "    -> Retrieved 25 citing papers.\n",
            "Processing paper 10/42: The soluble catalytic ectodomain of ACE2 ...\n",
            "  -> Found 15 papers that cited this paper...\n",
            "    -> Retrieved 15 citing papers.\n",
            "Processing paper 14/42: Characterization of Angiotensin Convertin...\n",
            "  -> Found 25 papers that cited this paper...\n",
            "    -> Retrieved 25 citing papers.\n",
            "Processing paper 6/42: Pharmacologic modulation of ACE2 expressi...\n",
            "  -> Found 87 papers that cited this paper...\n",
            "    -> Retrieved 25 citing papers.\n",
            "Processing paper 25/42: Membrane-associated zinc peptidase famili...\n",
            "  -> Found 92 papers that cited this paper...\n",
            "    -> Retrieved 25 citing papers.\n",
            "Processing paper 23/42: Trilogy of ACE2: A peptidase in the renin...\n",
            "  -> Found 488 papers that cited this paper...\n",
            "    -> Retrieved 25 citing papers.\n",
            "Processing paper 26/42: ACE2-like carboxypeptidase B38-CAP protec...\n",
            "  -> Found 44 papers that cited this paper...\n",
            "    -> Retrieved 25 citing papers.\n",
            "Processing paper 13/42: Renin-Angiotensin-System (RAS) und COVID-...\n",
            "  -> Found 6 papers that cited this paper...\n",
            "    -> Retrieved 6 citing papers.\n",
            "Processing paper 20/42: Angiotensin-converting enzyme 2: implicat...\n",
            "  -> Found 66 papers that cited this paper...\n",
            "    -> Retrieved 25 citing papers.\n",
            "Processing paper 53/42: Cigarette smoke exposure and inflammatory...\n",
            "  -> Found 44 papers that cited this paper...\n",
            "    -> Retrieved 25 citing papers.\n",
            "Processing paper 29/42: SARS-CoV-2 Spike Protein Regulation of An...\n",
            "  -> Found 3 papers that cited this paper...\n",
            "    -> Retrieved 3 citing papers.\n",
            "Processing paper 60/42: Single-cell RNA-sequencing reveals profib...\n",
            "  -> Found 37 papers that cited this paper...\n",
            "    -> Retrieved 25 citing papers.\n",
            "Processing paper 57/42: Targeting tumour necrosis factor to ameli...\n",
            "  -> Found 28 papers that cited this paper...\n",
            "    -> Retrieved 25 citing papers.\n",
            "Processing paper 27/42: Identification of critical active‐site re...\n",
            "  -> Found 127 papers that cited this paper...\n",
            "    -> Retrieved 25 citing papers.\n",
            "Processing paper 3/42: Dual role for angiotensin‐converting enzy...\n",
            "  -> Found 7 papers that cited this paper...\n",
            "    -> Retrieved 7 citing papers.\n",
            "Processing paper 24/42: Angiotensin‐converting enzyme 2 catalytic...\n",
            "  -> Found 130 papers that cited this paper...\n",
            "    -> Retrieved 25 citing papers.\n",
            "Processing paper 31/42: Ectodomain shedding of angiotensin conver...\n",
            "  -> Found 338 papers that cited this paper...\n",
            "    -> Retrieved 25 citing papers.\n",
            "Processing paper 22/42: Angiotensin-Converting Enzyme 2 (ACE2) Is...\n",
            "  -> Found 631 papers that cited this paper...\n",
            "    -> Retrieved 25 citing papers.\n",
            "Processing paper 16/42: Angiotensin-Converting Enzyme 2: SARS-CoV...\n",
            "  -> Found 1786 papers that cited this paper...\n",
            "    -> Retrieved 25 citing papers.\n",
            "Processing paper 4/42: ACE2 in the Era of SARS-CoV-2: Controvers...\n",
            "  -> Found 98 papers that cited this paper...\n",
            "    -> Retrieved 25 citing papers.\n",
            "Processing paper 56/42: Protective Effect of Remdesivir Against P...\n",
            "  -> Found 9 papers that cited this paper...\n",
            "    -> Retrieved 9 citing papers.\n",
            "Processing paper 50/42: In silico Investigation on the Inhibiting...\n",
            "  -> Found 32 papers that cited this paper...\n",
            "    -> Retrieved 25 citing papers.\n",
            "Processing paper 5/42: Virtual Screening of Natural Chemical Dat...\n",
            "  -> Found 2 papers that cited this paper...\n",
            "    -> Retrieved 2 citing papers.\n",
            "Processing paper 45/42: Association of Polypharmacy and Burden of...\n",
            "  -> Found 0 papers that cited this paper...\n",
            "Processing paper 47/42: COVID-19 fear and its associated correlat...\n",
            "  -> Found 3 papers that cited this paper...\n",
            "    -> Retrieved 3 citing papers.\n",
            "Processing paper 37/42: Diabetes, hypertension, body mass index, ...\n",
            "  -> Found 168 papers that cited this paper...\n",
            "    -> Retrieved 25 citing papers.\n",
            "Processing paper 42/42: Did smoking behavior change in adolescent...\n",
            "  -> Found 0 papers that cited this paper...\n",
            "Processing paper 44/42: Integration of point-of-care screening fo...\n",
            "  -> Found 2 papers that cited this paper...\n",
            "    -> Retrieved 2 citing papers.\n",
            "Processing paper 34/42: Smoking and pre-existing co-morbidities a...\n",
            "  -> Found 2 papers that cited this paper...\n",
            "    -> Retrieved 2 citing papers.\n",
            "Processing paper 33/42: Incidence of steroid-induced diabetes mel...\n",
            "  -> Found 0 papers that cited this paper...\n",
            "Processing paper 46/42: Diabetes Mellitus and COVID-19: Prevalenc...\n",
            "  -> Found 0 papers that cited this paper...\n",
            "Processing paper 38/42: Changes in Diabetes Care and Management P...\n",
            "  -> Found 0 papers that cited this paper...\n",
            "Processing paper 36/42: Biopsychosocial aspects of COVID-19 among...\n",
            "  -> Found 0 papers that cited this paper...\n",
            "Processing paper 32/42: Physical and Mental Health Characteristic...\n",
            "  -> Found 0 papers that cited this paper...\n",
            "Processing paper 35/42: Changes in Lifestyle Habits in Individual...\n",
            "  -> Found 0 papers that cited this paper...\n",
            "Processing paper 41/42: Stress, Depression, and Unhealthy Behavio...\n",
            "  -> Found 12 papers that cited this paper...\n",
            "    -> Retrieved 12 citing papers.\n",
            "Processing paper 40/42: Cessation of Face Mask Use after COVID-19...\n",
            "  -> Found 1 papers that cited this paper...\n",
            "    -> Retrieved 1 citing papers.\n",
            "Processing paper 39/42: Impact and prevalence of comorbidities an...\n",
            "  -> Found 1 papers that cited this paper...\n",
            "    -> Retrieved 1 citing papers.\n",
            "Processing paper 43/42: Smoking habits among covid-19 patients...\n",
            "  -> Found 0 papers that cited this paper...\n",
            "                           cord_uid                       openalex_id  \\\n",
            "0                          xkdmj1wd  https://openalex.org/W3013142338   \n",
            "1  https://openalex.org/W4319787176  https://openalex.org/W4319787176   \n",
            "2  https://openalex.org/W4394706372  https://openalex.org/W4394706372   \n",
            "3  https://openalex.org/W4292478816  https://openalex.org/W4292478816   \n",
            "4  https://openalex.org/W4390964374  https://openalex.org/W4390964374   \n",
            "\n",
            "                                               title  \\\n",
            "0  CD‐sACE2 inclusion compounds: An effective tre...   \n",
            "1  Cyclodextrins as eminent constituents in nanoa...   \n",
            "2  Role of renin-angiotensin system/angiotensin c...   \n",
            "3  Targeted therapy in Coronavirus disease 2019 (...   \n",
            "4  Progress in Treatment and Diagnostics of Infec...   \n",
            "\n",
            "                                            doi  \\\n",
            "0             https://doi.org/10.1002/jmv.25804   \n",
            "1          https://doi.org/10.3762/bjnano.14.21   \n",
            "2        https://doi.org/10.4239/wjd.v15.i4.606   \n",
            "3  https://doi.org/10.1016/j.intimp.2022.109161   \n",
            "4   https://doi.org/10.1021/acsinfecdis.3c00528   \n",
            "\n",
            "                                            abstract  \\\n",
            "0  Abstract Coronaviruses are common human viruse...   \n",
            "1  Cyclodextrins have been widely employed for dr...   \n",
            "2  Coronavirus disease 2019 (COVID-19) is a disea...   \n",
            "3                                                      \n",
            "4  In this era of advanced technology and innovat...   \n",
            "\n",
            "                                             authors journal publish_time  \\\n",
            "0  Pengfei Sun; Xiaosheng Lu; Chao Xu; Yanjin Wan...           2020-03-31   \n",
            "1                                    Makoto Komiyama           2023-02-09   \n",
            "2  Ashwin Kumar Shukla; K.K. Awasthi; Kauser Usma...           2024-04-11   \n",
            "3  Moein Shirzad; Marjan Nourigorji; Atefe Sajedi...           2022-08-18   \n",
            "4  Sukanya Patra; Divya Pareek; Prem Shankar Gupt...           2024-01-18   \n",
            "\n",
            "                            cited_id  \n",
            "0                               None  \n",
            "1  https://doi.org/10.1002/jmv.25804  \n",
            "2  https://doi.org/10.1002/jmv.25804  \n",
            "3  https://doi.org/10.1002/jmv.25804  \n",
            "4  https://doi.org/10.1002/jmv.25804  \n"
          ]
        }
      ]
    },
    {
      "cell_type": "code",
      "source": [
        "expanded_df = expanded_df[expanded_df['cited_id'].notnull()]"
      ],
      "metadata": {
        "id": "TYZckapAb7D7"
      },
      "execution_count": 41,
      "outputs": []
    },
    {
      "cell_type": "code",
      "source": [
        "len(expanded_df)"
      ],
      "metadata": {
        "colab": {
          "base_uri": "https://localhost:8080/"
        },
        "id": "hRxAc-t-RrJj",
        "outputId": "51243cb0-dc70-4b6d-e3cb-3f682b8a6ecb"
      },
      "execution_count": 42,
      "outputs": [
        {
          "output_type": "execute_result",
          "data": {
            "text/plain": [
              "216"
            ]
          },
          "metadata": {},
          "execution_count": 42
        }
      ]
    },
    {
      "cell_type": "code",
      "source": [
        "(expanded_df['abstract'] != \"\").sum()"
      ],
      "metadata": {
        "colab": {
          "base_uri": "https://localhost:8080/"
        },
        "id": "gXvdtsaQSDgr",
        "outputId": "4fd4730b-ee0e-4a04-ca19-fd38e1077a35"
      },
      "execution_count": 43,
      "outputs": [
        {
          "output_type": "execute_result",
          "data": {
            "text/plain": [
              "np.int64(177)"
            ]
          },
          "metadata": {},
          "execution_count": 43
        }
      ]
    },
    {
      "cell_type": "code",
      "source": [
        "expanded_df = expanded_df[expanded_df['abstract'] != \"\"]"
      ],
      "metadata": {
        "id": "U-hzWbQlShBE"
      },
      "execution_count": 44,
      "outputs": []
    },
    {
      "cell_type": "code",
      "source": [
        "len(expanded_df)"
      ],
      "metadata": {
        "colab": {
          "base_uri": "https://localhost:8080/"
        },
        "id": "L6mT_BkISlRC",
        "outputId": "bb1f5edb-e0e7-44c4-eef7-10f5d71432e9"
      },
      "execution_count": 45,
      "outputs": [
        {
          "output_type": "execute_result",
          "data": {
            "text/plain": [
              "177"
            ]
          },
          "metadata": {},
          "execution_count": 45
        }
      ]
    },
    {
      "cell_type": "code",
      "source": [
        "expanded_df.to_csv('/content/drive/MyDrive/extended_papers_with_diabetes.csv', index=False)"
      ],
      "metadata": {
        "id": "TwYoZB8Qn7Zs"
      },
      "execution_count": 47,
      "outputs": []
    },
    {
      "cell_type": "code",
      "source": [
        "output_path = \"/content/drive/MyDrive/neo4j_data/\""
      ],
      "metadata": {
        "id": "a120EhxthDn3"
      },
      "execution_count": 2,
      "outputs": []
    },
    {
      "cell_type": "code",
      "source": [
        "expanded_df = pd.read_csv(\"/content/drive/MyDrive/extended_papers_with_diabetes.csv\")"
      ],
      "metadata": {
        "id": "1re9ZyjkdQ5q"
      },
      "execution_count": 3,
      "outputs": []
    },
    {
      "cell_type": "code",
      "source": [
        "paper_nodes = []\n",
        "author_nodes = []\n",
        "keyword_nodes = []\n",
        "author_wrote_paper_relationships = []\n",
        "paper_has_keyword_relationships = []\n",
        "paper_cites_paper_relationships = []\n",
        "\n",
        "unique_papers = set()\n",
        "unique_authors = set()\n",
        "unique_keywords = set()"
      ],
      "metadata": {
        "id": "yOFjYdr-TvqL"
      },
      "execution_count": 77,
      "outputs": []
    },
    {
      "cell_type": "code",
      "source": [
        "def normalize_doi(doi):\n",
        "    \"\"\"Normalize DOI formats\"\"\"\n",
        "    if not doi or pd.isna(doi) or str(doi).lower() == 'nan':\n",
        "        return None\n",
        "    doi = str(doi).lower().strip()\n",
        "    for prefix in ['https://doi.org/', 'http://doi.org/', 'doi:', 'doi.org/']:\n",
        "        doi = doi.replace(prefix, '')\n",
        "    return doi.split('?')[0].split('#')[0]\n",
        "\n",
        "def process_paper(paper, is_citing=False):\n",
        "    \"\"\"Process paper with original citation mapping preserved\"\"\"\n",
        "    paper_id = paper.get(\"cord_uid\") or paper.get(\"openalex_id\") or paper.get(\"mag_id\")\n",
        "    if not paper_id or paper_id in unique_papers:\n",
        "        return None, None\n",
        "\n",
        "    unique_papers.add(paper_id)\n",
        "\n",
        "    source = \"citing\" if is_citing else \"original\"\n",
        "    cited_doi = normalize_doi(paper.get(\"cited_id\")) if is_citing else None\n",
        "\n",
        "    paper_nodes.append({\n",
        "        \"paper_id\": paper_id,\n",
        "        \"title\": paper.get(\"title\", \"\"),\n",
        "        \"abstract\": paper.get(\"abstract\", \"\"),\n",
        "        \"doi\": normalize_doi(paper.get(\"doi\")),\n",
        "        \"publish_date\": paper.get(\"publish_time\", \"\"),\n",
        "        \"journal\": paper.get(\"journal\", \"\"),\n",
        "        \"source\": source,\n",
        "        \"cited_paper_doi\": cited_doi\n",
        "    })\n",
        "\n",
        "    authors_raw = paper.get(\"authors\", \"\")\n",
        "    authors = [a.strip() for a in authors_raw.split(\";\") if a.strip()]\n",
        "    for author_name in authors:\n",
        "        decoded_author_name = html.unescape(author_name)\n",
        "        if decoded_author_name not in unique_authors:\n",
        "            author_nodes.append({\n",
        "                \"author_id\": f\"auth_{len(unique_authors)+1}\",\n",
        "                \"author_name\": decoded_author_name\n",
        "            })\n",
        "            unique_authors.add(decoded_author_name)\n",
        "        author_wrote_paper_relationships.append({\n",
        "            \"author_name\": decoded_author_name,\n",
        "            \"paper_id\": paper_id\n",
        "        })\n",
        "\n",
        "    abstract_text = str(paper.get(\"abstract\", \"\")).lower()\n",
        "    words = re.findall(r'\\b[a-z]{3,}\\b', abstract_text)\n",
        "    filtered_words = [word for word in words if word not in stop_words]\n",
        "    word_counts = Counter(filtered_words)\n",
        "\n",
        "    for keyword, count in word_counts.most_common(10):\n",
        "        if keyword not in unique_keywords:\n",
        "            keyword_nodes.append({\n",
        "                \"keyword_name\": keyword,\n",
        "                \"frequency\": count\n",
        "            })\n",
        "            unique_keywords.add(keyword)\n",
        "        paper_has_keyword_relationships.append({\n",
        "            \"paper_id\": paper_id,\n",
        "            \"keyword_name\": keyword\n",
        "        })\n",
        "\n",
        "    return paper_id, cited_doi"
      ],
      "metadata": {
        "id": "R9xQ7sSiSTfj"
      },
      "execution_count": 90,
      "outputs": []
    },
    {
      "cell_type": "code",
      "source": [
        "doi_to_id = {}\n",
        "for paper in paper_nodes:\n",
        "    if paper['doi']:\n",
        "        doi_to_id[paper['doi']] = paper['paper_id']"
      ],
      "metadata": {
        "id": "TQIq5IPKXt52"
      },
      "execution_count": 92,
      "outputs": []
    },
    {
      "cell_type": "code",
      "source": [
        "print(\"Processing original papers...\")\n",
        "for _, paper in papers.iterrows():\n",
        "    process_paper(paper, is_citing=False)"
      ],
      "metadata": {
        "colab": {
          "base_uri": "https://localhost:8080/"
        },
        "id": "YIl8htXnWhUf",
        "outputId": "9b76ee22-554f-4ec1-8734-8cb20b1ddcda"
      },
      "execution_count": 91,
      "outputs": [
        {
          "output_type": "stream",
          "name": "stdout",
          "text": [
            "Processing original papers...\n"
          ]
        }
      ]
    },
    {
      "cell_type": "code",
      "source": [
        "print(\"Processing citing papers...\")\n",
        "citation_issues = []\n",
        "for _, paper in expanded_df.iterrows():\n",
        "    paper_id, cited_doi = process_paper(paper, is_citing=True)\n",
        "\n",
        "    if cited_doi and paper_id:\n",
        "        cited_paper_id = doi_to_id.get(cited_doi)\n",
        "        if cited_paper_id:\n",
        "            paper_cites_paper_relationships.append({\n",
        "                \"citing_paper_id\": paper_id,\n",
        "                \"cited_paper_id\": cited_paper_id,\n",
        "                \"source_doi\": normalize_doi(paper.get(\"doi\")),\n",
        "                \"target_doi\": cited_doi\n",
        "            })\n",
        "        else:\n",
        "            citation_issues.append(f\"Cited paper not found for DOI: {cited_doi}\")"
      ],
      "metadata": {
        "colab": {
          "base_uri": "https://localhost:8080/"
        },
        "id": "T120uw6EWi32",
        "outputId": "bb383d58-563b-43bf-8097-b59eb25e6925"
      },
      "execution_count": 93,
      "outputs": [
        {
          "output_type": "stream",
          "name": "stdout",
          "text": [
            "Processing citing papers...\n"
          ]
        }
      ]
    },
    {
      "cell_type": "code",
      "source": [
        "print(f\"\\nFinal Statistics:\")\n",
        "print(f\"Total papers: {len(paper_nodes)}\")\n",
        "print(f\"  - Original: {len([p for p in paper_nodes if p['source'] == 'original'])}\")\n",
        "print(f\"  - Citing: {len([p for p in paper_nodes if p['source'] == 'citing'])}\")\n",
        "print(f\"Total authors: {len(author_nodes)}\")\n",
        "print(f\"Total keywords: {len(keyword_nodes)}\")\n",
        "print(f\"Successful citation relationships: {len(paper_cites_paper_relationships)}\")\n",
        "print(f\"Citation issues: {len(citation_issues)}\")\n",
        "\n",
        "if citation_issues:\n",
        "    print(\"\\nSample citation issues:\")\n",
        "    for issue in citation_issues[:5]:\n",
        "        print(issue)"
      ],
      "metadata": {
        "colab": {
          "base_uri": "https://localhost:8080/"
        },
        "id": "tSUemNDlKmW-",
        "outputId": "443cac00-670d-452d-eb14-ee5d828b9028"
      },
      "execution_count": 94,
      "outputs": [
        {
          "output_type": "stream",
          "name": "stdout",
          "text": [
            "\n",
            "Final Statistics:\n",
            "Total papers: 218\n",
            "  - Original: 42\n",
            "  - Citing: 176\n",
            "Total authors: 1751\n",
            "Total keywords: 861\n",
            "Successful citation relationships: 176\n",
            "Citation issues: 0\n"
          ]
        }
      ]
    },
    {
      "cell_type": "code",
      "source": [
        "pd.DataFrame(paper_nodes).to_csv(os.path.join(output_path, \"paper_nodes.csv\"), index=False)\n",
        "pd.DataFrame(author_nodes).to_csv(os.path.join(output_path, \"author_nodes.csv\"), index=False)\n",
        "pd.DataFrame(keyword_nodes).to_csv(os.path.join(output_path, \"keyword_nodes.csv\"), index=False)\n",
        "pd.DataFrame(author_wrote_paper_relationships).to_csv(\n",
        "    os.path.join(output_path, \"author_wrote_paper_relationships.csv\"), index=False)\n",
        "pd.DataFrame(paper_has_keyword_relationships).to_csv(\n",
        "    os.path.join(output_path, \"paper_has_keyword_relationships.csv\"), index=False)\n",
        "pd.DataFrame(paper_cites_paper_relationships).to_csv(\n",
        "    os.path.join(output_path, \"paper_cites_paper_relationships.csv\"), index=False)\n"
      ],
      "metadata": {
        "id": "dZChL_muVjsh"
      },
      "execution_count": 95,
      "outputs": []
    }
  ]
}