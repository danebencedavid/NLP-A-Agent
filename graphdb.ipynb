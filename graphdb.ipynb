{
  "nbformat": 4,
  "nbformat_minor": 0,
  "metadata": {
    "colab": {
      "provenance": [],
      "gpuType": "T4",
      "mount_file_id": "1vReKcjN81X2qMFjrRxcj4cJhQgUyA3hd",
      "authorship_tag": "ABX9TyMMpWKejWQAqSrB0VW61rpj",
      "include_colab_link": true
    },
    "kernelspec": {
      "name": "python3",
      "display_name": "Python 3"
    },
    "language_info": {
      "name": "python"
    },
    "accelerator": "GPU"
  },
  "cells": [
    {
      "cell_type": "markdown",
      "metadata": {
        "id": "view-in-github",
        "colab_type": "text"
      },
      "source": [
        "<a href=\"https://colab.research.google.com/github/danebencedavid/NLP-A-Agent/blob/master/graphdb.ipynb\" target=\"_parent\"><img src=\"https://colab.research.google.com/assets/colab-badge.svg\" alt=\"Open In Colab\"/></a>"
      ]
    },
    {
      "cell_type": "code",
      "execution_count": 1,
      "metadata": {
        "id": "YDr8CL39lYpx"
      },
      "outputs": [],
      "source": [
        "import pandas as pd\n",
        "import numpy as np\n",
        "import re\n",
        "from collections import Counter\n",
        "import os\n",
        "import requests\n",
        "import time"
      ]
    },
    {
      "cell_type": "code",
      "source": [
        "df = pd.read_csv(\"/content/drive/MyDrive/relevant_papers_4.csv\")"
      ],
      "metadata": {
        "id": "CxTJ1Y1VlpF_"
      },
      "execution_count": 8,
      "outputs": []
    },
    {
      "cell_type": "code",
      "source": [
        "df.columns"
      ],
      "metadata": {
        "colab": {
          "base_uri": "https://localhost:8080/"
        },
        "id": "luZwa-Txmdtx",
        "outputId": "2bc65c8d-bde3-4660-c524-08e48126b6cc"
      },
      "execution_count": 9,
      "outputs": [
        {
          "output_type": "execute_result",
          "data": {
            "text/plain": [
              "Index(['cord_uid', 'sha', 'source_x', 'title', 'doi', 'pmcid', 'pubmed_id',\n",
              "       'license', 'abstract', 'publish_time', 'authors', 'journal', 'mag_id',\n",
              "       'who_covidence_id', 'arxiv_id', 'pdf_json_files', 'pmc_json_files',\n",
              "       'url', 's2_id', 'smoking_score', 'covid_score', 'combined_score'],\n",
              "      dtype='object')"
            ]
          },
          "metadata": {},
          "execution_count": 9
        }
      ]
    },
    {
      "cell_type": "code",
      "source": [
        "new_papers_dois = [\n",
        "    '10.1371/journal.pone.0287794',\n",
        "    '10.4103/ecdt.ecdt_106_22',\n",
        "    '10.1186/s12887-025-05434-w',\n",
        "    '10.3390/ijerph20042768',\n",
        "    '10.3390/healthcare10020303',\n",
        "    '10.1371/journal.pone.0295040',\n",
        "    '10.3390/covid3100109',\n",
        "    '10.32920/ihtp.v4i2.2148',\n",
        "    '10.18203/2320-6012.ijrms20231341',\n",
        "    '10.3390/brainsci14040377',\n",
        "    '10.37796/2211-8039.1429',\n",
        "    '10.18502/ijdo.v15i3.13739',\n",
        "    '10.1136/bmjopen-2021-052777',\n",
        "    '10.21203/rs.3.rs-3849240/v1',\n",
        "    '10.1017/gmh.2023.47',\n",
        "    '10.1007/s13300-024-01681-9'\n",
        "]"
      ],
      "metadata": {
        "id": "U7vFYuyWpsVG"
      },
      "execution_count": null,
      "outputs": []
    },
    {
      "cell_type": "code",
      "source": [
        "new_rows = []"
      ],
      "metadata": {
        "id": "nIiSgkHxq5xC"
      },
      "execution_count": 11,
      "outputs": []
    },
    {
      "cell_type": "code",
      "source": [
        "for doi in new_papers_dois:\n",
        "    doi = doi.lower().strip()\n",
        "    openalex_url = f\"https://api.openalex.org/works/doi:{doi}\"\n",
        "\n",
        "    response = requests.get(openalex_url)\n",
        "    if response.status_code != 200:\n",
        "        print(f\"Failed to fetch info for DOI: {doi}\")\n",
        "        continue\n",
        "\n",
        "    data = response.json()\n",
        "\n",
        "    new_rows.append({\n",
        "        'cord_uid': data.get('id', ''),\n",
        "        'title': data.get('title', ''),\n",
        "        'doi': data.get('doi', ''),\n",
        "        'abstract': data.get('abstract', ''),\n",
        "        'authors': \"; \".join([auth['author']['display_name'] for auth in data.get('authorships', [])]),\n",
        "        'journal': data.get('host_venue', {}).get('display_name', ''),\n",
        "        'publish_time': data.get('publication_date', ''),\n",
        "    })"
      ],
      "metadata": {
        "id": "beW7LgspqzZh"
      },
      "execution_count": null,
      "outputs": []
    },
    {
      "cell_type": "code",
      "source": [
        "new_df = pd.DataFrame(new_rows)"
      ],
      "metadata": {
        "id": "8NF_mloaq8tu"
      },
      "execution_count": null,
      "outputs": []
    },
    {
      "cell_type": "code",
      "source": [
        "full_df = pd.concat([df, new_df], ignore_index=True)"
      ],
      "metadata": {
        "id": "mxFZFCforDQZ"
      },
      "execution_count": null,
      "outputs": []
    },
    {
      "cell_type": "code",
      "source": [
        "full_df.to_csv('/content/drive/MyDrive/fulldf_papers_5.csv', index=False)"
      ],
      "metadata": {
        "id": "fr82qUmxtWSV"
      },
      "execution_count": null,
      "outputs": []
    },
    {
      "cell_type": "code",
      "source": [
        "papers = pd.read_csv('/content/drive/MyDrive/fulldf_papers.csv')"
      ],
      "metadata": {
        "id": "AyCJmiv5tRmN"
      },
      "execution_count": 12,
      "outputs": []
    },
    {
      "cell_type": "code",
      "source": [
        "doi_nan_rows = papers[papers['doi'].isna()]\n",
        "print(doi_nan_rows[['title','doi','cord_uid']])"
      ],
      "metadata": {
        "colab": {
          "base_uri": "https://localhost:8080/"
        },
        "id": "8q-DjXDQLsBG",
        "outputId": "6b75e74c-9c98-47f8-845d-e8875c9c06c5"
      },
      "execution_count": 59,
      "outputs": [
        {
          "output_type": "stream",
          "name": "stdout",
          "text": [
            "Empty DataFrame\n",
            "Columns: [title, doi, cord_uid]\n",
            "Index: []\n"
          ]
        }
      ]
    },
    {
      "cell_type": "code",
      "source": [
        "papers.head()['doi']"
      ],
      "metadata": {
        "colab": {
          "base_uri": "https://localhost:8080/",
          "height": 241
        },
        "id": "bflhVP2sPU0e",
        "outputId": "5568e78f-7470-4144-ebd6-0cda83e23ebb"
      },
      "execution_count": 64,
      "outputs": [
        {
          "output_type": "execute_result",
          "data": {
            "text/plain": [
              "0            10.1111/obr.13225\n",
              "1            10.1111/obr.13225\n",
              "2            10.1111/obr.13225\n",
              "3    10.3389/fmolb.2020.588618\n",
              "4    10.3390/molecules27051740\n",
              "Name: doi, dtype: object"
            ],
            "text/html": [
              "<div>\n",
              "<style scoped>\n",
              "    .dataframe tbody tr th:only-of-type {\n",
              "        vertical-align: middle;\n",
              "    }\n",
              "\n",
              "    .dataframe tbody tr th {\n",
              "        vertical-align: top;\n",
              "    }\n",
              "\n",
              "    .dataframe thead th {\n",
              "        text-align: right;\n",
              "    }\n",
              "</style>\n",
              "<table border=\"1\" class=\"dataframe\">\n",
              "  <thead>\n",
              "    <tr style=\"text-align: right;\">\n",
              "      <th></th>\n",
              "      <th>doi</th>\n",
              "    </tr>\n",
              "  </thead>\n",
              "  <tbody>\n",
              "    <tr>\n",
              "      <th>0</th>\n",
              "      <td>10.1111/obr.13225</td>\n",
              "    </tr>\n",
              "    <tr>\n",
              "      <th>1</th>\n",
              "      <td>10.1111/obr.13225</td>\n",
              "    </tr>\n",
              "    <tr>\n",
              "      <th>2</th>\n",
              "      <td>10.1111/obr.13225</td>\n",
              "    </tr>\n",
              "    <tr>\n",
              "      <th>3</th>\n",
              "      <td>10.3389/fmolb.2020.588618</td>\n",
              "    </tr>\n",
              "    <tr>\n",
              "      <th>4</th>\n",
              "      <td>10.3390/molecules27051740</td>\n",
              "    </tr>\n",
              "  </tbody>\n",
              "</table>\n",
              "</div><br><label><b>dtype:</b> object</label>"
            ]
          },
          "metadata": {},
          "execution_count": 64
        }
      ]
    },
    {
      "cell_type": "code",
      "source": [
        "all_extended_papers = []"
      ],
      "metadata": {
        "id": "hTmJlDnKQxD9"
      },
      "execution_count": 68,
      "outputs": []
    },
    {
      "cell_type": "code",
      "source": [
        "def reconstruct_abstract(abstract_inverted_index):\n",
        "    \"\"\"Reconstructs an abstract string from an OpenAlex inverted index.\"\"\"\n",
        "    if not abstract_inverted_index:\n",
        "        return \"\"\n",
        "    max_index = max((idx for indices in abstract_inverted_index.values() for idx in indices), default=-1)\n",
        "    abstract_words = [\"\"] * (max_index + 1)\n",
        "    for word, indices in abstract_inverted_index.items():\n",
        "        for idx in indices:\n",
        "            abstract_words[idx] = word\n",
        "    return \" \".join(abstract_words)"
      ],
      "metadata": {
        "id": "W0lfPBE2ciHT"
      },
      "execution_count": 65,
      "outputs": []
    },
    {
      "cell_type": "code",
      "source": [
        "def fetch_openalex_data(doi):\n",
        "    \"\"\"Fetches data from OpenAlex for a given DOI.\"\"\"\n",
        "    doi = doi.lower().strip()\n",
        "    openalex_url = f\"https://api.openalex.org/works/doi:{doi}\"\n",
        "    response = requests.get(openalex_url)\n",
        "    if response.status_code != 200:\n",
        "        print(f\"  -> Failed to fetch OpenAlex data for DOI: {doi}\")\n",
        "        return None\n",
        "    return response.json()"
      ],
      "metadata": {
        "id": "pAKEwP8jLcr5"
      },
      "execution_count": 66,
      "outputs": []
    },
    {
      "cell_type": "code",
      "source": [
        "def process_paper(row):\n",
        "    \"\"\"Processes a single paper and its citing papers.\"\"\"\n",
        "    extended_papers = []\n",
        "    doi = row.get('doi', None)\n",
        "    if pd.isna(doi) or not doi:\n",
        "        print(f\"  -> DOI is missing for paper: {row['cord_uid']}\")\n",
        "        return []\n",
        "\n",
        "    openalex_data = fetch_openalex_data(doi)\n",
        "    if not openalex_data:\n",
        "        return []\n",
        "    openalex_id = openalex_data.get('id', None)\n",
        "    if openalex_id is None:\n",
        "        print(f\"  -> No OpenAlex ID found for DOI: {doi}\")\n",
        "        return []\n",
        "\n",
        "    # 1. Add the original paper's data.  Crucially, cited_id is NULL here.\n",
        "    paper_data = {\n",
        "        'cord_uid': row.get('cord_uid', ''),\n",
        "        'openalex_id': openalex_id,\n",
        "        'title': openalex_data.get('title', ''),\n",
        "        'doi': openalex_data.get('doi', ''),\n",
        "        'abstract': reconstruct_abstract(openalex_data.get('abstract_inverted_index', {})),\n",
        "        'authors': \"; \".join([auth.get('author', {}).get('display_name', '') for auth in openalex_data.get('authorships', [])]),\n",
        "        'journal': openalex_data.get('host_venue', {}).get('display_name', ''),\n",
        "        'publish_time': openalex_data.get('publication_date', ''),\n",
        "        'cited_id': None  # Original papers don't have a cited_id\n",
        "    }\n",
        "    extended_papers.append(paper_data)\n",
        "\n",
        "    cited_by_count = openalex_data.get('cited_by_count', 0)\n",
        "    print(f\"  -> Found {cited_by_count} papers that cited this paper...\")\n",
        "\n",
        "    if cited_by_count > 0:\n",
        "        citing_query_url = f\"https://api.openalex.org/works?filter=cites:{openalex_id}\"\n",
        "        citing_response = requests.get(citing_query_url)\n",
        "        if citing_response.status_code == 200:\n",
        "            citing_data = citing_response.json()\n",
        "            citing_papers = citing_data.get('results', [])\n",
        "            print(f\"    -> Retrieved {len(citing_papers)} citing papers.\")\n",
        "            for citing_paper in citing_papers:\n",
        "                publish_time = citing_paper.get('publication_date', '')\n",
        "                if publish_time and publish_time >= \"2020-01-01\":\n",
        "                    # 2. Add the citing paper's data.  cited_id is the ORIGINAL paper's DOI.\n",
        "                    citing_paper_data = {\n",
        "                        'cord_uid': citing_paper.get('id', ''),\n",
        "                        'openalex_id': citing_paper.get('id', ''),\n",
        "                        'title': citing_paper.get('title', ''),\n",
        "                        'doi': citing_paper.get('doi', ''),\n",
        "                        'abstract': reconstruct_abstract(citing_paper.get('abstract_inverted_index', {})),\n",
        "                        'authors': \"; \".join([auth.get('author', {}).get('display_name', '') for auth in citing_paper.get('authorships', [])]),\n",
        "                        'journal': citing_paper.get('host_venue', {}).get('display_name', ''),\n",
        "                        'publish_time': publish_time,\n",
        "                        'cited_id': openalex_data.get('doi',\n",
        "                                                    '')  # <--- Store the DOI of the paper being cited\n",
        "                    }\n",
        "                    extended_papers.append(citing_paper_data)\n",
        "        else:\n",
        "            print(f\"  -> Failed to fetch citing papers for OpenAlex ID: {openalex_id}\")\n",
        "    return extended_papers"
      ],
      "metadata": {
        "id": "nnTWBsR1QmqP"
      },
      "execution_count": 67,
      "outputs": []
    },
    {
      "cell_type": "code",
      "source": [
        "print(f\"Total papers to process: {len(papers)}\")\n",
        "for idx, row in papers.iterrows():\n",
        "    print(f\"Processing paper {idx + 1}/{len(papers)}: {row['title'][:65]}...\")\n",
        "    extended_papers = process_paper(row)\n",
        "    all_extended_papers.extend(extended_papers)\n",
        "    time.sleep(1)\n",
        "expanded_df = pd.DataFrame(all_extended_papers)\n",
        "print(expanded_df.head())"
      ],
      "metadata": {
        "colab": {
          "base_uri": "https://localhost:8080/"
        },
        "id": "CaaM7bV3QpqM",
        "outputId": "b1fdee79-30a1-440d-e2fe-18c7f2ec6e8d"
      },
      "execution_count": 69,
      "outputs": [
        {
          "output_type": "stream",
          "name": "stdout",
          "text": [
            "Total papers to process: 60\n",
            "Processing paper 1/60: Dual role for angiotensin-converting enzyme 2 in Severe Acute Res...\n",
            "  -> Found 7 papers that cited this paper...\n",
            "    -> Retrieved 7 citing papers.\n",
            "Processing paper 2/60: Dual role for angiotensin-converting enzyme 2 in Severe Acute Res...\n",
            "  -> Found 7 papers that cited this paper...\n",
            "    -> Retrieved 7 citing papers.\n",
            "Processing paper 3/60: Dual role for angiotensin‐converting enzyme 2 in Severe Acute Res...\n",
            "  -> Found 7 papers that cited this paper...\n",
            "    -> Retrieved 7 citing papers.\n",
            "Processing paper 4/60: ACE2 in the Era of SARS-CoV-2: Controversies and Novel Perspectiv...\n",
            "  -> Found 98 papers that cited this paper...\n",
            "    -> Retrieved 25 citing papers.\n",
            "Processing paper 5/60: Virtual Screening of Natural Chemical Databases to Search for Pot...\n",
            "  -> Found 2 papers that cited this paper...\n",
            "    -> Retrieved 2 citing papers.\n",
            "Processing paper 6/60: Pharmacologic modulation of ACE2 expression...\n",
            "  -> Found 87 papers that cited this paper...\n",
            "    -> Retrieved 25 citing papers.\n",
            "Processing paper 7/60: CD-sACE2 Inclusion Compounds: An Effective Treatment for Corona V...\n",
            "  -> Found 44 papers that cited this paper...\n",
            "    -> Retrieved 25 citing papers.\n",
            "Processing paper 8/60: Angiotensin-converting enzyme 2 (ACE2) in disease pathogenesis....\n",
            "  -> Found 201 papers that cited this paper...\n",
            "    -> Retrieved 25 citing papers.\n",
            "Processing paper 9/60: The soluble catalytic ectodomain of ACE2 a biomarker of cardiac r...\n",
            "  -> Found 15 papers that cited this paper...\n",
            "    -> Retrieved 15 citing papers.\n",
            "Processing paper 10/60: The soluble catalytic ectodomain of ACE2 a biomarker of cardiac r...\n",
            "  -> Found 15 papers that cited this paper...\n",
            "    -> Retrieved 15 citing papers.\n",
            "Processing paper 11/60: Renin-Angiotensin-System (RAS) und COVID-19 ­ Zur Verordnung von ...\n",
            "  -> Found 6 papers that cited this paper...\n",
            "    -> Retrieved 6 citing papers.\n",
            "Processing paper 12/60: Renin-Angiotensin-System (RAS) und COVID-19 ­ Zur Verordnung von ...\n",
            "  -> Found 6 papers that cited this paper...\n",
            "    -> Retrieved 6 citing papers.\n",
            "Processing paper 13/60: Renin-Angiotensin-System (RAS) und COVID-19 – Zur Verordnung von ...\n",
            "  -> Found 6 papers that cited this paper...\n",
            "    -> Retrieved 6 citing papers.\n",
            "Processing paper 14/60: Characterization of Angiotensin Converting Enzyme-2 (ACE2) in Hum...\n",
            "  -> Found 25 papers that cited this paper...\n",
            "    -> Retrieved 25 citing papers.\n",
            "Processing paper 15/60: Measurement of Angiotensin Converting Enzyme 2 Activity in Biolog...\n",
            "  -> Found 42 papers that cited this paper...\n",
            "    -> Retrieved 25 citing papers.\n",
            "Processing paper 16/60: Angiotensin-Converting Enzyme 2: SARS-CoV-2 Receptor and Regulato...\n",
            "  -> Found 1786 papers that cited this paper...\n",
            "    -> Retrieved 25 citing papers.\n",
            "Processing paper 17/60: Angiotensin-Converting Enzyme 2: SARS-CoV-2 Receptor and Regulato...\n",
            "  -> Found 1786 papers that cited this paper...\n",
            "    -> Retrieved 25 citing papers.\n",
            "Processing paper 18/60: Angiotensin-Converting Enzyme 2: SARS-CoV-2 Receptor and Regulato...\n",
            "  -> Found 1786 papers that cited this paper...\n",
            "    -> Retrieved 25 citing papers.\n",
            "Processing paper 19/60: Angiotensin-Converting Enzyme 2: SARS-CoV-2 Receptor and Regulato...\n",
            "  -> Found 1786 papers that cited this paper...\n",
            "    -> Retrieved 25 citing papers.\n",
            "Processing paper 20/60: Angiotensin-converting enzyme 2: implications for blood pressure ...\n",
            "  -> Found 66 papers that cited this paper...\n",
            "    -> Retrieved 25 citing papers.\n",
            "Processing paper 21/60: Renin-Angiotensin-System (RAS) and COVID-19 - For prescribing Ras...\n",
            "  -> Found 6 papers that cited this paper...\n",
            "    -> Retrieved 6 citing papers.\n",
            "Processing paper 22/60: Angiotensin-Converting Enzyme 2 (ACE2) Is a Key Modulator of the ...\n",
            "  -> Found 631 papers that cited this paper...\n",
            "    -> Retrieved 25 citing papers.\n",
            "Processing paper 23/60: Trilogy of ACE2: A peptidase in the renin–angiotensin system, a S...\n",
            "  -> Found 488 papers that cited this paper...\n",
            "    -> Retrieved 25 citing papers.\n",
            "Processing paper 24/60: Angiotensin‐converting enzyme 2 catalytic activity in human plasm...\n",
            "  -> Found 130 papers that cited this paper...\n",
            "    -> Retrieved 25 citing papers.\n",
            "Processing paper 25/60: Membrane-associated zinc peptidase families: comparing ACE and AC...\n",
            "  -> Found 92 papers that cited this paper...\n",
            "    -> Retrieved 25 citing papers.\n",
            "Processing paper 26/60: ACE2-like carboxypeptidase B38-CAP protects from SARS-CoV-2-induc...\n",
            "  -> Found 44 papers that cited this paper...\n",
            "    -> Retrieved 25 citing papers.\n",
            "Processing paper 27/60: Identification of critical active‐site residues in angiotensin‐co...\n",
            "  -> Found 127 papers that cited this paper...\n",
            "    -> Retrieved 25 citing papers.\n",
            "Processing paper 28/60: What’s new in the renin-angiotensin system?: Angiotensin-converti...\n",
            "  -> Found 147 papers that cited this paper...\n",
            "    -> Retrieved 25 citing papers.\n",
            "Processing paper 29/60: SARS-CoV-2 Spike Protein Regulation of Angiotensin Converting Enz...\n",
            "  -> Found 3 papers that cited this paper...\n",
            "    -> Retrieved 3 citing papers.\n",
            "Processing paper 30/60: SARS-CoV-2 Spike Protein Regulation of Angiotensin Converting Enz...\n",
            "  -> Found 3 papers that cited this paper...\n",
            "    -> Retrieved 3 citing papers.\n",
            "Processing paper 31/60: Ectodomain shedding of angiotensin converting enzyme 2 in human a...\n",
            "  -> Found 337 papers that cited this paper...\n",
            "    -> Retrieved 25 citing papers.\n",
            "Processing paper 32/60: Physical and Mental Health Characteristics of Hospitalized COVID-...\n",
            "  -> Found 0 papers that cited this paper...\n",
            "Processing paper 33/60: Incidence of steroid-induced diabetes mellitus among in-patients ...\n",
            "  -> Found 0 papers that cited this paper...\n",
            "Processing paper 34/60: Smoking and pre-existing co-morbidities as risk factors for devel...\n",
            "  -> Found 2 papers that cited this paper...\n",
            "    -> Retrieved 2 citing papers.\n",
            "Processing paper 35/60: Changes in Lifestyle Habits in Individuals with Diabetes during t...\n",
            "  -> Found 0 papers that cited this paper...\n",
            "Processing paper 36/60: Biopsychosocial aspects of COVID-19 among individuals living with...\n",
            "  -> Found 0 papers that cited this paper...\n",
            "Processing paper 37/60: Diabetes, hypertension, body mass index, smoking and COVID-19-rel...\n",
            "  -> Found 166 papers that cited this paper...\n",
            "    -> Retrieved 25 citing papers.\n",
            "Processing paper 38/60: Changes in Diabetes Care and Management Practices during the COVI...\n",
            "  -> Found 0 papers that cited this paper...\n",
            "Processing paper 39/60: Impact and prevalence of comorbidities and complications on the s...\n",
            "  -> Found 1 papers that cited this paper...\n",
            "    -> Retrieved 1 citing papers.\n",
            "Processing paper 40/60: Cessation of Face Mask Use after COVID-19 Vaccination in Patients...\n",
            "  -> Found 1 papers that cited this paper...\n",
            "    -> Retrieved 1 citing papers.\n",
            "Processing paper 41/60: Stress, Depression, and Unhealthy Behavior Changes among Patients...\n",
            "  -> Found 12 papers that cited this paper...\n",
            "    -> Retrieved 12 citing papers.\n",
            "Processing paper 42/60: Did smoking behavior change in adolescents and young adults with ...\n",
            "  -> Found 0 papers that cited this paper...\n",
            "Processing paper 43/60: Smoking habits among covid-19 patients...\n",
            "  -> Found 0 papers that cited this paper...\n",
            "Processing paper 44/60: Integration of point-of-care screening for type 2 diabetes mellit...\n",
            "  -> Found 2 papers that cited this paper...\n",
            "    -> Retrieved 2 citing papers.\n",
            "Processing paper 45/60: Association of Polypharmacy and Burden of Comorbidities on COVID-...\n",
            "  -> Found 0 papers that cited this paper...\n",
            "Processing paper 46/60: Diabetes Mellitus and COVID-19: Prevalence, Severity, Management,...\n",
            "  -> Found 0 papers that cited this paper...\n",
            "Processing paper 47/60: COVID-19 fear and its associated correlates among type-2 diabetes...\n",
            "  -> Found 3 papers that cited this paper...\n",
            "    -> Retrieved 3 citing papers.\n",
            "Processing paper 48/60: The relationship of smoking with ace2 and COVID-19...\n",
            "  -> Failed to fetch OpenAlex data for DOI: 10.1164/ajrccm-conference.2021.203.1\n",
            "Processing paper 49/60: Zinc supplementation augments the suppressive effects of repurpos...\n",
            "  -> Found 21 papers that cited this paper...\n",
            "    -> Retrieved 21 citing papers.\n",
            "Processing paper 50/60: In silico Investigation on the Inhibiting Role of Nicotine/Caffei...\n",
            "  -> Found 32 papers that cited this paper...\n",
            "    -> Retrieved 25 citing papers.\n",
            "Processing paper 51/60: In silico Investigation on the Inhibiting Role of Nicotine/Caffei...\n",
            "  -> Found 32 papers that cited this paper...\n",
            "    -> Retrieved 25 citing papers.\n",
            "Processing paper 52/60: Cigarette Smoke Exposure and Inflammatory Signaling Increase the ...\n",
            "  -> Found 397 papers that cited this paper...\n",
            "    -> Retrieved 25 citing papers.\n",
            "Processing paper 53/60: Cigarette smoke exposure and inflammatory signaling increase the ...\n",
            "  -> Found 44 papers that cited this paper...\n",
            "    -> Retrieved 25 citing papers.\n",
            "Processing paper 54/60: A computational insight of the improved nicotine binding with ACE...\n",
            "  -> Found 5 papers that cited this paper...\n",
            "    -> Retrieved 5 citing papers.\n",
            "Processing paper 55/60: A computational insight of the improved nicotine binding with ACE...\n",
            "  -> Found 5 papers that cited this paper...\n",
            "    -> Retrieved 5 citing papers.\n",
            "Processing paper 56/60: Protective Effect of Remdesivir Against Pulmonary Fibrosis in Mic...\n",
            "  -> Found 9 papers that cited this paper...\n",
            "    -> Retrieved 9 citing papers.\n",
            "Processing paper 57/60: Targeting tumour necrosis factor to ameliorate viral pneumonia....\n",
            "  -> Found 26 papers that cited this paper...\n",
            "    -> Retrieved 25 citing papers.\n",
            "Processing paper 58/60: Targeting tumour necrosis factor to ameliorate viral pneumonia...\n",
            "  -> Found 26 papers that cited this paper...\n",
            "    -> Retrieved 25 citing papers.\n",
            "Processing paper 59/60: The interplay of DAMPs, TLR4, and proinflammatory cytokines in pu...\n",
            "  -> Found 71 papers that cited this paper...\n",
            "    -> Retrieved 25 citing papers.\n",
            "Processing paper 60/60: Single-cell RNA-sequencing reveals profibrotic roles of distinct ...\n",
            "  -> Found 37 papers that cited this paper...\n",
            "    -> Retrieved 25 citing papers.\n",
            "                           cord_uid                       openalex_id  \\\n",
            "0                          13114zt5  https://openalex.org/W3134076033   \n",
            "1  https://openalex.org/W4387759184  https://openalex.org/W4387759184   \n",
            "2  https://openalex.org/W3196048591  https://openalex.org/W3196048591   \n",
            "3  https://openalex.org/W3192476519  https://openalex.org/W3192476519   \n",
            "4  https://openalex.org/W4220654695  https://openalex.org/W4220654695   \n",
            "\n",
            "                                               title  \\\n",
            "0  Dual role for angiotensin‐converting enzyme 2 ...   \n",
            "1  Inhibition of intrarenal PRR-RAS pathway by Ga...   \n",
            "2  COVID-19 and Obesity: Role of Ectopic Visceral...   \n",
            "3  Cardiac adipose tissue volume and IL-6 level a...   \n",
            "4  Automatic Deep-Learning Segmentation of Epicar...   \n",
            "\n",
            "                                              doi  \\\n",
            "0               https://doi.org/10.1111/obr.13225   \n",
            "1  https://doi.org/10.1016/j.ijbiomac.2023.127336   \n",
            "2       https://doi.org/10.3389/fendo.2021.726967   \n",
            "3      https://doi.org/10.1186/s12933-021-01327-1   \n",
            "4           https://doi.org/10.3390/cells11061034   \n",
            "\n",
            "                                            abstract  \\\n",
            "0  Summary Angiotensin‐converting enzyme 2 (ACE2)...   \n",
            "1                                                      \n",
            "2  In March 2020, the WHO declared coronavirus di...   \n",
            "3  Abstract Background COVID-19 diabetic adults a...   \n",
            "4  Background: To develop a deep-learning (DL) pi...   \n",
            "\n",
            "                                             authors journal publish_time  \\\n",
            "0  Brendin Flinn; Nicholas Royce; Todd Gress; Nep...           2021-03-03   \n",
            "1  Hui Fang; Xinxuan Li; Dongmei Lin; Lianfu Wang...           2023-10-16   \n",
            "2  Adèle Lasbleiz; Bénédicte Gaborit; Astrid Sogh...           2021-08-16   \n",
            "3  Franck Phan; Samia Boussouar; Olivier Lucidarm...           2021-08-12   \n",
            "4  Axel Bartoli; Joris Fournel; Léa Ait-Yahia; Fa...           2022-03-18   \n",
            "\n",
            "                            cited_id  \n",
            "0                               None  \n",
            "1  https://doi.org/10.1111/obr.13225  \n",
            "2  https://doi.org/10.1111/obr.13225  \n",
            "3  https://doi.org/10.1111/obr.13225  \n",
            "4  https://doi.org/10.1111/obr.13225  \n"
          ]
        }
      ]
    },
    {
      "cell_type": "code",
      "source": [
        "expanded_df = expanded_df[expanded_df['cited_id'].notnull()]"
      ],
      "metadata": {
        "id": "TYZckapAb7D7"
      },
      "execution_count": 72,
      "outputs": []
    },
    {
      "cell_type": "code",
      "source": [
        "len(expanded_df)"
      ],
      "metadata": {
        "colab": {
          "base_uri": "https://localhost:8080/"
        },
        "id": "hRxAc-t-RrJj",
        "outputId": "30141d5b-999e-4e1c-deaf-05e067bb2451"
      },
      "execution_count": 73,
      "outputs": [
        {
          "output_type": "execute_result",
          "data": {
            "text/plain": [
              "724"
            ]
          },
          "metadata": {},
          "execution_count": 73
        }
      ]
    },
    {
      "cell_type": "code",
      "source": [
        "(expanded_df['abstract'] != \"\").sum()"
      ],
      "metadata": {
        "colab": {
          "base_uri": "https://localhost:8080/"
        },
        "id": "gXvdtsaQSDgr",
        "outputId": "82900c6d-953f-4b58-d89f-19fd317b92a9"
      },
      "execution_count": 79,
      "outputs": [
        {
          "output_type": "execute_result",
          "data": {
            "text/plain": [
              "np.int64(588)"
            ]
          },
          "metadata": {},
          "execution_count": 79
        }
      ]
    },
    {
      "cell_type": "code",
      "source": [
        "expanded_df = expanded_df[expanded_df['abstract'] != \"\"]"
      ],
      "metadata": {
        "id": "U-hzWbQlShBE"
      },
      "execution_count": 80,
      "outputs": []
    },
    {
      "cell_type": "code",
      "source": [
        "len(expanded_df)"
      ],
      "metadata": {
        "colab": {
          "base_uri": "https://localhost:8080/"
        },
        "id": "L6mT_BkISlRC",
        "outputId": "803afe77-986b-4c8f-ce75-310c3489f047"
      },
      "execution_count": 81,
      "outputs": [
        {
          "output_type": "execute_result",
          "data": {
            "text/plain": [
              "588"
            ]
          },
          "metadata": {},
          "execution_count": 81
        }
      ]
    },
    {
      "cell_type": "code",
      "source": [
        "expanded_df.to_csv('/content/drive/MyDrive/extended_papers_with_diabetes.csv', index=False)"
      ],
      "metadata": {
        "id": "TwYoZB8Qn7Zs"
      },
      "execution_count": 82,
      "outputs": []
    },
    {
      "cell_type": "code",
      "source": [
        "output_path = \"/content/drive/MyDrive/neo4j_data/\""
      ],
      "metadata": {
        "id": "a120EhxthDn3"
      },
      "execution_count": 83,
      "outputs": []
    },
    {
      "cell_type": "code",
      "source": [
        "paper_nodes = []\n",
        "author_nodes = []\n",
        "keyword_nodes = []"
      ],
      "metadata": {
        "id": "m9MvqJplSsh-"
      },
      "execution_count": 84,
      "outputs": []
    },
    {
      "cell_type": "code",
      "source": [
        "author_wrote_paper_relationships = []\n",
        "paper_has_keyword_relationships = []\n",
        "paper_cites_paper_relationships = []"
      ],
      "metadata": {
        "id": "C2xDmsnbSvDP"
      },
      "execution_count": 85,
      "outputs": []
    },
    {
      "cell_type": "code",
      "source": [
        "unique_papers = set()\n",
        "unique_authors = set()\n",
        "unique_keywords = set()"
      ],
      "metadata": {
        "id": "s-Iq4n6-SxxF"
      },
      "execution_count": 86,
      "outputs": []
    },
    {
      "cell_type": "code",
      "source": [
        "for idx, paper in expanded_df.iterrows():\n",
        "    paper_id = paper.get(\"cord_uid\") or paper.get(\"openalex_id\")\n",
        "    if not paper_id or paper_id in unique_papers:\n",
        "        continue\n",
        "    unique_papers.add(paper_id)\n",
        "\n",
        "    paper_nodes.append({\n",
        "        \"paper_id\": paper_id,\n",
        "        \"title\": paper.get(\"title\", \"\"),\n",
        "        \"abstract\": paper.get(\"abstract\", \"\"),\n",
        "        \"doi\": paper.get(\"doi\", \"\"),\n",
        "        \"publish_date\": paper.get(\"publish_time\", \"\")\n",
        "    })\n",
        "\n",
        "    authors_raw = paper.get(\"authors\", \"\")\n",
        "    authors = [a.strip() for a in authors_raw.split(\";\") if a.strip()]\n",
        "    for author_name in authors:\n",
        "        if author_name not in unique_authors:\n",
        "            author_nodes.append({\n",
        "                \"author_name\": author_name\n",
        "            })\n",
        "            unique_authors.add(author_name)\n",
        "\n",
        "        author_wrote_paper_relationships.append({\n",
        "            \"author_name\": author_name,\n",
        "            \"paper_id\": paper_id\n",
        "        })\n",
        "\n",
        "    abstract_text = str(paper.get(\"abstract\", \"\")).lower()\n",
        "    words = re.findall(r'\\b\\w+\\b', abstract_text)\n",
        "    word_counts = Counter(words)\n",
        "\n",
        "    for keyword, count in word_counts.items():\n",
        "        if len(keyword) <= 2:\n",
        "            continue\n",
        "        if keyword not in unique_keywords:\n",
        "            keyword_nodes.append({\n",
        "                \"keyword_name\": keyword,\n",
        "                \"frequency\": count\n",
        "            })\n",
        "            unique_keywords.add(keyword)\n",
        "\n",
        "        paper_has_keyword_relationships.append({\n",
        "            \"paper_id\": paper_id,\n",
        "            \"keyword_name\": keyword\n",
        "        })\n",
        "\n",
        "    cited_paper_id = paper.get(\"cited_id\")\n",
        "    if paper_id and cited_paper_id:\n",
        "        paper_cites_paper_relationships.append({\n",
        "            \"citing_paper_id\": paper_id,\n",
        "            \"cited_paper_id\": cited_paper_id\n",
        "        })"
      ],
      "metadata": {
        "id": "Ak6TpyQlS0Nm"
      },
      "execution_count": 87,
      "outputs": []
    },
    {
      "cell_type": "code",
      "source": [
        "pd.DataFrame(paper_nodes).to_csv(os.path.join(output_path, \"paper_nodes.csv\"), index=False)\n",
        "pd.DataFrame(author_nodes).to_csv(os.path.join(output_path, \"author_nodes.csv\"), index=False)\n",
        "pd.DataFrame(keyword_nodes).to_csv(os.path.join(output_path, \"keyword_nodes.csv\"), index=False)\n",
        "\n",
        "pd.DataFrame(author_wrote_paper_relationships).to_csv(os.path.join(output_path, \"author_wrote_paper_relationships.csv\"), index=False)\n",
        "pd.DataFrame(paper_has_keyword_relationships).to_csv(os.path.join(output_path, \"paper_has_keyword_relationships.csv\"), index=False)\n",
        "pd.DataFrame(paper_cites_paper_relationships).to_csv(os.path.join(output_path, \"paper_cites_paper_relationships.csv\"), index=False)\n",
        "\n",
        "print(f\"CSV files saved in {output_path}\")"
      ],
      "metadata": {
        "colab": {
          "base_uri": "https://localhost:8080/"
        },
        "id": "n6upO-WvS67v",
        "outputId": "599ad626-e188-4394-c327-35b6ac5283ed"
      },
      "execution_count": 88,
      "outputs": [
        {
          "output_type": "stream",
          "name": "stdout",
          "text": [
            "CSV files saved in /content/drive/MyDrive/neo4j_data/\n"
          ]
        }
      ]
    }
  ]
}