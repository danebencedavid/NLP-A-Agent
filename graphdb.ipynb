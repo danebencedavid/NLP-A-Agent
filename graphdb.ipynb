{
  "nbformat": 4,
  "nbformat_minor": 0,
  "metadata": {
    "colab": {
      "provenance": [],
      "gpuType": "T4",
      "mount_file_id": "1vReKcjN81X2qMFjrRxcj4cJhQgUyA3hd",
      "authorship_tag": "ABX9TyMTtcFP5zfwUpIGOSS2oo5H",
      "include_colab_link": true
    },
    "kernelspec": {
      "name": "python3",
      "display_name": "Python 3"
    },
    "language_info": {
      "name": "python"
    },
    "accelerator": "GPU"
  },
  "cells": [
    {
      "cell_type": "markdown",
      "metadata": {
        "id": "view-in-github",
        "colab_type": "text"
      },
      "source": [
        "<a href=\"https://colab.research.google.com/github/danebencedavid/NLP-A-Agent/blob/master/graphdb.ipynb\" target=\"_parent\"><img src=\"https://colab.research.google.com/assets/colab-badge.svg\" alt=\"Open In Colab\"/></a>"
      ]
    },
    {
      "cell_type": "code",
      "execution_count": null,
      "metadata": {
        "id": "YDr8CL39lYpx"
      },
      "outputs": [],
      "source": [
        "import pandas as pd\n",
        "import numpy as np\n",
        "import re\n",
        "from collections import Counter\n",
        "import os\n",
        "import requests\n",
        "import time"
      ]
    },
    {
      "cell_type": "code",
      "source": [
        "df = pd.read_csv(\"/content/drive/MyDrive/relevant_papers_4.csv\")"
      ],
      "metadata": {
        "id": "CxTJ1Y1VlpF_"
      },
      "execution_count": null,
      "outputs": []
    },
    {
      "cell_type": "code",
      "source": [
        "df.columns"
      ],
      "metadata": {
        "colab": {
          "base_uri": "https://localhost:8080/"
        },
        "id": "luZwa-Txmdtx",
        "outputId": "cfd201aa-c56e-4869-f31f-03be63f214aa"
      },
      "execution_count": null,
      "outputs": [
        {
          "output_type": "execute_result",
          "data": {
            "text/plain": [
              "Index(['cord_uid', 'sha', 'source_x', 'title', 'doi', 'pmcid', 'pubmed_id',\n",
              "       'license', 'abstract', 'publish_time', 'authors', 'journal', 'mag_id',\n",
              "       'who_covidence_id', 'arxiv_id', 'pdf_json_files', 'pmc_json_files',\n",
              "       'url', 's2_id', 'smoking_score', 'covid_score', 'combined_score'],\n",
              "      dtype='object')"
            ]
          },
          "metadata": {},
          "execution_count": 3
        }
      ]
    },
    {
      "cell_type": "code",
      "source": [
        "output_path = \"/content/drive/MyDrive/neo4j_data/\""
      ],
      "metadata": {
        "id": "5RxqKunL7PtL"
      },
      "execution_count": null,
      "outputs": []
    },
    {
      "cell_type": "code",
      "source": [
        "paper_nodes = []\n",
        "author_nodes = []\n",
        "keyword_nodes = []"
      ],
      "metadata": {
        "id": "H11T0wBr7RXe"
      },
      "execution_count": null,
      "outputs": []
    },
    {
      "cell_type": "code",
      "source": [
        "author_wrote_paper_relationships = []\n",
        "paper_has_keyword_relationships = []\n"
      ],
      "metadata": {
        "id": "rlXi4kCR7SXD"
      },
      "execution_count": null,
      "outputs": []
    },
    {
      "cell_type": "code",
      "source": [
        "unique_papers = set()\n",
        "unique_authors = set()\n",
        "unique_keywords = set()"
      ],
      "metadata": {
        "id": "yjkicgzl7TUP"
      },
      "execution_count": null,
      "outputs": []
    },
    {
      "cell_type": "code",
      "source": [
        "for idx, paper in df.iterrows():\n",
        "    paper_id = paper.get(\"cord_uid\")\n",
        "    if not paper_id or paper_id in unique_papers:\n",
        "        continue\n",
        "    unique_papers.add(paper_id)\n",
        "\n",
        "    paper_nodes.append({\n",
        "        \"paper_id\": paper_id,\n",
        "        \"title\": paper.get(\"title\", \"\"),\n",
        "        \"abstract\": paper.get(\"abstract\", \"\"),\n",
        "        \"doi\": paper.get(\"doi\", \"\"),\n",
        "        \"publish_date\": paper.get(\"publish_time\", \"\")\n",
        "    })\n",
        "\n",
        "    authors_raw = paper.get(\"authors\", \"\")\n",
        "    authors = [a.strip() for a in authors_raw.split(\";\") if a.strip()]\n",
        "    for author_name in authors:\n",
        "        if author_name not in unique_authors:\n",
        "            author_nodes.append({\n",
        "                \"author_name\": author_name\n",
        "            })\n",
        "            unique_authors.add(author_name)\n",
        "\n",
        "        author_wrote_paper_relationships.append({\n",
        "            \"author_name\": author_name,\n",
        "            \"paper_id\": paper_id\n",
        "        })\n",
        "\n",
        "    abstract_text = str(paper.get(\"abstract\", \"\")).lower()\n",
        "    words = re.findall(r'\\b\\w+\\b', abstract_text)\n",
        "    word_counts = Counter(words)\n",
        "\n",
        "    for keyword, count in word_counts.items():\n",
        "        if len(keyword) <= 2:\n",
        "            continue\n",
        "        if keyword not in unique_keywords:\n",
        "            keyword_nodes.append({\n",
        "                \"keyword_name\": keyword,\n",
        "                \"frequency\": count\n",
        "            })\n",
        "            unique_keywords.add(keyword)\n",
        "\n",
        "        paper_has_keyword_relationships.append({\n",
        "            \"paper_id\": paper_id,\n",
        "            \"keyword_name\": keyword\n",
        "        })"
      ],
      "metadata": {
        "id": "yhzV73Yx7UiY"
      },
      "execution_count": null,
      "outputs": []
    },
    {
      "cell_type": "code",
      "source": [
        "pd.DataFrame(paper_nodes).to_csv(os.path.join(output_path, \"paper_nodes.csv\"), index=False)\n",
        "pd.DataFrame(author_nodes).to_csv(os.path.join(output_path, \"author_nodes.csv\"), index=False)\n",
        "pd.DataFrame(keyword_nodes).to_csv(os.path.join(output_path, \"keyword_nodes.csv\"), index=False)\n",
        "\n",
        "pd.DataFrame(author_wrote_paper_relationships).to_csv(os.path.join(output_path, \"author_wrote_paper_relationships.csv\"), index=False)\n",
        "pd.DataFrame(paper_has_keyword_relationships).to_csv(os.path.join(output_path, \"paper_has_keyword_relationships.csv\"), index=False)\n",
        "\n",
        "print(f\"CSV files saved in {output_path}\")"
      ],
      "metadata": {
        "id": "-T3dKILs7Yvt",
        "outputId": "0fbc4c7d-03d4-4cba-be77-f12a602ac19c",
        "colab": {
          "base_uri": "https://localhost:8080/"
        }
      },
      "execution_count": null,
      "outputs": [
        {
          "output_type": "stream",
          "name": "stdout",
          "text": [
            "CSV files saved in /content/drive/MyDrive/neo4j_data/\n"
          ]
        }
      ]
    },
    {
      "cell_type": "code",
      "source": [
        "new_papers_dois = [\n",
        "    '10.1371/journal.pone.0287794',\n",
        "    '10.4103/ecdt.ecdt_106_22',\n",
        "    '10.1186/s12887-025-05434-w',\n",
        "    '10.3390/ijerph20042768',\n",
        "    '10.3390/healthcare10020303',\n",
        "    '10.1371/journal.pone.0295040',\n",
        "    '10.3390/covid3100109',\n",
        "    '10.32920/ihtp.v4i2.2148',\n",
        "    '10.18203/2320-6012.ijrms20231341',\n",
        "    '10.3390/brainsci14040377',\n",
        "    '10.37796/2211-8039.1429',\n",
        "    '10.18502/ijdo.v15i3.13739',\n",
        "    '10.1136/bmjopen-2021-052777',\n",
        "    '10.21203/rs.3.rs-3849240/v1',\n",
        "    '10.1017/gmh.2023.47',\n",
        "    ' 10.1007/s13300-024-01681-9'\n",
        "]"
      ],
      "metadata": {
        "id": "U7vFYuyWpsVG"
      },
      "execution_count": null,
      "outputs": []
    },
    {
      "cell_type": "code",
      "source": [
        "extended_papers = []"
      ],
      "metadata": {
        "id": "7GjAh1qT7aPx"
      },
      "execution_count": null,
      "outputs": []
    },
    {
      "cell_type": "code",
      "source": [
        "new_rows = []"
      ],
      "metadata": {
        "id": "nIiSgkHxq5xC"
      },
      "execution_count": null,
      "outputs": []
    },
    {
      "cell_type": "code",
      "source": [
        "for doi in new_papers_dois:\n",
        "    doi = doi.lower().strip()\n",
        "    openalex_url = f\"https://api.openalex.org/works/doi:{doi}\"\n",
        "\n",
        "    response = requests.get(openalex_url)\n",
        "    if response.status_code != 200:\n",
        "        print(f\"Failed to fetch info for DOI: {doi}\")\n",
        "        continue\n",
        "\n",
        "    data = response.json()\n",
        "\n",
        "    new_rows.append({\n",
        "        'cord_uid': data.get('id', ''),\n",
        "        'title': data.get('title', ''),\n",
        "        'doi': data.get('doi', ''),\n",
        "        'abstract': data.get('abstract', ''),\n",
        "        'authors': \"; \".join([auth['author']['display_name'] for auth in data.get('authorships', [])]),\n",
        "        'journal': data.get('host_venue', {}).get('display_name', ''),\n",
        "        'publish_time': data.get('publication_date', ''),\n",
        "    })"
      ],
      "metadata": {
        "id": "beW7LgspqzZh"
      },
      "execution_count": null,
      "outputs": []
    },
    {
      "cell_type": "code",
      "source": [
        "new_df = pd.DataFrame(new_rows)"
      ],
      "metadata": {
        "id": "8NF_mloaq8tu"
      },
      "execution_count": null,
      "outputs": []
    },
    {
      "cell_type": "code",
      "source": [
        "full_df = pd.concat([df, new_df], ignore_index=True)"
      ],
      "metadata": {
        "id": "mxFZFCforDQZ"
      },
      "execution_count": null,
      "outputs": []
    },
    {
      "cell_type": "code",
      "source": [
        "full_df.to_csv('/content/drive/MyDrive/fulldf_papers_5.csv', index=False)"
      ],
      "metadata": {
        "id": "fr82qUmxtWSV"
      },
      "execution_count": null,
      "outputs": []
    },
    {
      "cell_type": "code",
      "source": [],
      "metadata": {
        "id": "AyCJmiv5tRmN"
      },
      "execution_count": null,
      "outputs": []
    },
    {
      "cell_type": "code",
      "source": [
        "for idx, row in full_df.iterrows():\n",
        "    print(f\"Processing paper {idx+1}/{len(full_df)}: {row['title'][:60]}...\")\n",
        "\n",
        "    doi = row['doi']\n",
        "    if pd.isna(doi):\n",
        "        continue\n",
        "\n",
        "    doi = doi.lower().strip()\n",
        "    openalex_url = f\"https://api.openalex.org/works/doi:{doi}\"\n",
        "\n",
        "    response = requests.get(openalex_url)\n",
        "    if response.status_code != 200:\n",
        "        print(f\"  -> Failed to fetch OpenAlex data for DOI: {doi}\")\n",
        "        continue\n",
        "\n",
        "    data = response.json()\n",
        "    openalex_id = data.get('id', None)\n",
        "\n",
        "    if openalex_id is None:\n",
        "        print(f\"  -> No OpenAlex ID found for DOI: {doi}\")\n",
        "        continue\n",
        "\n",
        "    extended_papers.append({\n",
        "        'cord_uid': row['cord_uid'],\n",
        "        'title': data.get('title', ''),\n",
        "        'doi': data.get('doi', ''),\n",
        "        'abstract': data.get('abstract', ''),\n",
        "        'authors': \"; \".join([auth['author']['display_name'] for auth in data.get('authorships', [])]),\n",
        "        'journal': data.get('host_venue', {}).get('display_name', ''),\n",
        "        'publish_time': data.get('publication_date', ''),\n",
        "    })\n",
        "\n",
        "    cited_by_count = data.get('cited_by_count', 0)\n",
        "    print(f\"  -> Found {cited_by_count} papers that cited this paper...\")\n",
        "\n",
        "    if cited_by_count > 0:\n",
        "        citing_query_url = f\"https://api.openalex.org/works?filter=cites:{openalex_id}\"\n",
        "\n",
        "        citing_response = requests.get(citing_query_url)\n",
        "        if citing_response.status_code != 200:\n",
        "            print(f\"  -> Failed to fetch citing papers for OpenAlex ID: {openalex_id}\")\n",
        "            continue\n",
        "\n",
        "        citing_data = citing_response.json()\n",
        "\n",
        "        citing_papers = citing_data.get('results', [])\n",
        "        print(f\"    -> Retrieved {len(citing_papers)} citing papers.\")\n",
        "\n",
        "        for citing_paper in citing_papers:\n",
        "            publish_time = citing_paper.get('publication_date', '')\n",
        "\n",
        "            if publish_time and publish_time >= \"2020-01-01\":\n",
        "                extended_papers.append({\n",
        "                    'cord_uid': citing_paper.get('id', ''),\n",
        "                    'title': citing_paper.get('title', ''),\n",
        "                    'doi': citing_paper.get('doi', ''),\n",
        "                    'abstract': citing_paper.get('abstract', ''),\n",
        "                    'authors': \"; \".join([auth['author']['display_name'] for auth in citing_paper.get('authorships', [])]),\n",
        "                    'journal': citing_paper.get('host_venue', {}).get('display_name', ''),\n",
        "                    'publish_time': publish_time\n",
        "                })\n",
        "\n",
        "    time.sleep(1)\n",
        "\n",
        "\n",
        "expanded_df = pd.DataFrame(extended_papers)\n",
        "expanded_df.to_csv('/content/drive/MyDrive/extended_papers.csv', index=False)"
      ],
      "metadata": {
        "colab": {
          "base_uri": "https://localhost:8080/"
        },
        "id": "pAKEwP8jLcr5",
        "outputId": "8f4edf88-b8a9-4b24-f8b8-be41cf56a2ee"
      },
      "execution_count": null,
      "outputs": [
        {
          "output_type": "stream",
          "name": "stdout",
          "text": [
            "Processing paper 1/44: Characterization of Angiotensin Converting Enzyme-...\n",
            "  -> Found 25 papers that cited this paper...\n",
            "    -> Retrieved 25 citing papers.\n",
            "Processing paper 2/44: CD-sACE2 Inclusion Compounds: An Effective Treatme...\n",
            "  -> Found 44 papers that cited this paper...\n",
            "    -> Retrieved 25 citing papers.\n",
            "Processing paper 3/44: Angiotensin-converting enzyme 2: implications for ...\n",
            "  -> Found 66 papers that cited this paper...\n",
            "    -> Retrieved 25 citing papers.\n",
            "Processing paper 4/44: Targeting tumour necrosis factor to ameliorate vir...\n",
            "  -> Found 26 papers that cited this paper...\n",
            "    -> Retrieved 25 citing papers.\n",
            "Processing paper 5/44: Ectodomain shedding of angiotensin converting enzy...\n",
            "  -> Found 337 papers that cited this paper...\n",
            "    -> Retrieved 25 citing papers.\n",
            "Processing paper 6/44: Single-cell RNA-sequencing reveals profibrotic rol...\n",
            "  -> Found 37 papers that cited this paper...\n",
            "    -> Retrieved 25 citing papers.\n",
            "Processing paper 7/44: Angiotensin-converting enzyme 2 (ACE2) in disease ...\n",
            "Processing paper 8/44: Renin-Angiotensin-System (RAS) and COVID-19 - For ...\n",
            "Processing paper 9/44: Renin-Angiotensin-System (RAS) und COVID-19 ­ Zur ...\n",
            "Processing paper 10/44: Renin-Angiotensin-System (RAS) und COVID-19 ­ Zur ...\n",
            "Processing paper 11/44: In silico Investigation on the Inhibiting Role of ...\n",
            "Processing paper 12/44: A computational insight of the improved nicotine b...\n",
            "Processing paper 13/44: A computational insight of the improved nicotine b...\n",
            "Processing paper 14/44: Dual role for angiotensin-converting enzyme 2 in S...\n",
            "Processing paper 15/44: Dual role for angiotensin-converting enzyme 2 in S...\n",
            "Processing paper 16/44: Zinc supplementation augments the suppressive effe...\n",
            "Processing paper 17/44: Targeting tumour necrosis factor to ameliorate vir...\n",
            "Processing paper 18/44: Angiotensin-Converting Enzyme 2: SARS-CoV-2 Recept...\n",
            "Processing paper 19/44: Angiotensin-Converting Enzyme 2: SARS-CoV-2 Recept...\n",
            "Processing paper 20/44: Angiotensin-Converting Enzyme 2: SARS-CoV-2 Recept...\n",
            "Processing paper 21/44: The relationship of smoking with ace2 and COVID-19...\n",
            "Processing paper 22/44: Cigarette Smoke Exposure and Inflammatory Signalin...\n",
            "Processing paper 23/44: SARS-CoV-2 Spike Protein Regulation of Angiotensin...\n",
            "Processing paper 24/44: The soluble catalytic ectodomain of ACE2 a biomark...\n",
            "Processing paper 25/44: Pharmacologic modulation of ACE2 expression...\n",
            "  -> Found 87 papers that cited this paper...\n",
            "    -> Retrieved 25 citing papers.\n",
            "Processing paper 26/44: Cigarette smoke exposure and inflammatory signalin...\n",
            "  -> Found 44 papers that cited this paper...\n",
            "    -> Retrieved 25 citing papers.\n",
            "Processing paper 27/44: Membrane-associated zinc peptidase families: compa...\n",
            "  -> Found 92 papers that cited this paper...\n",
            "    -> Retrieved 25 citing papers.\n",
            "Processing paper 28/44: ACE2-like carboxypeptidase B38-CAP protects from S...\n",
            "  -> Found 44 papers that cited this paper...\n",
            "    -> Retrieved 25 citing papers.\n",
            "Processing paper 29/44: The interplay of DAMPs, TLR4, and proinflammatory ...\n",
            "  -> Found 71 papers that cited this paper...\n",
            "    -> Retrieved 25 citing papers.\n",
            "Processing paper 30/44: Angiotensin-Converting Enzyme 2 (ACE2) Is a Key Mo...\n",
            "  -> Found 631 papers that cited this paper...\n",
            "    -> Retrieved 25 citing papers.\n",
            "Processing paper 31/44: SARS-CoV-2 Spike Protein Regulation of Angiotensin...\n",
            "  -> Found 3 papers that cited this paper...\n",
            "    -> Retrieved 3 citing papers.\n",
            "Processing paper 32/44: Measurement of Angiotensin Converting Enzyme 2 Act...\n",
            "  -> Found 42 papers that cited this paper...\n",
            "    -> Retrieved 25 citing papers.\n",
            "Processing paper 33/44: What’s new in the renin-angiotensin system?: Angio...\n",
            "  -> Found 147 papers that cited this paper...\n",
            "    -> Retrieved 25 citing papers.\n",
            "Processing paper 34/44: Protective Effect of Remdesivir Against Pulmonary ...\n",
            "  -> Found 9 papers that cited this paper...\n",
            "    -> Retrieved 9 citing papers.\n",
            "Processing paper 35/44: Virtual Screening of Natural Chemical Databases to...\n",
            "  -> Found 2 papers that cited this paper...\n",
            "    -> Retrieved 2 citing papers.\n",
            "Processing paper 36/44: Angiotensin-Converting Enzyme 2: SARS-CoV-2 Recept...\n",
            "  -> Found 1785 papers that cited this paper...\n",
            "    -> Retrieved 25 citing papers.\n",
            "Processing paper 37/44: Angiotensin‐converting enzyme 2 catalytic activity...\n",
            "  -> Found 130 papers that cited this paper...\n",
            "    -> Retrieved 25 citing papers.\n",
            "Processing paper 38/44: In silico Investigation on the Inhibiting Role of ...\n",
            "  -> Found 32 papers that cited this paper...\n",
            "    -> Retrieved 25 citing papers.\n",
            "Processing paper 39/44: Renin-Angiotensin-System (RAS) und COVID-19 – Zur ...\n",
            "  -> Found 6 papers that cited this paper...\n",
            "    -> Retrieved 6 citing papers.\n",
            "Processing paper 40/44: Dual role for angiotensin‐converting enzyme 2 in S...\n",
            "  -> Found 7 papers that cited this paper...\n",
            "    -> Retrieved 7 citing papers.\n",
            "Processing paper 41/44: Trilogy of ACE2: A peptidase in the renin–angioten...\n",
            "  -> Found 488 papers that cited this paper...\n",
            "    -> Retrieved 25 citing papers.\n",
            "Processing paper 42/44: The soluble catalytic ectodomain of ACE2 a biomark...\n",
            "  -> Found 15 papers that cited this paper...\n",
            "    -> Retrieved 15 citing papers.\n",
            "Processing paper 43/44: ACE2 in the Era of SARS-CoV-2: Controversies and N...\n",
            "  -> Found 98 papers that cited this paper...\n",
            "    -> Retrieved 25 citing papers.\n",
            "Processing paper 44/44: Identification of critical active‐site residues in...\n",
            "  -> Found 127 papers that cited this paper...\n",
            "    -> Retrieved 25 citing papers.\n"
          ]
        }
      ]
    },
    {
      "cell_type": "code",
      "source": [],
      "metadata": {
        "id": "TwYoZB8Qn7Zs"
      },
      "execution_count": null,
      "outputs": []
    }
  ]
}