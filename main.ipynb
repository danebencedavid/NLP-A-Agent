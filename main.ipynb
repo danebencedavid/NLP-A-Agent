{
  "nbformat": 4,
  "nbformat_minor": 0,
  "metadata": {
    "colab": {
      "provenance": [],
      "gpuType": "T4",
      "authorship_tag": "ABX9TyOl4cnVX1f+QOhgoPvZBomP",
      "include_colab_link": true
    },
    "kernelspec": {
      "name": "python3",
      "display_name": "Python 3"
    },
    "language_info": {
      "name": "python"
    },
    "accelerator": "GPU"
  },
  "cells": [
    {
      "cell_type": "markdown",
      "metadata": {
        "id": "view-in-github",
        "colab_type": "text"
      },
      "source": [
        "<a href=\"https://colab.research.google.com/github/danebencedavid/NLP-A-Agent/blob/master/main.ipynb\" target=\"_parent\"><img src=\"https://colab.research.google.com/assets/colab-badge.svg\" alt=\"Open In Colab\"/></a>"
      ]
    },
    {
      "cell_type": "code",
      "source": [
        "#Imports\n",
        "import kagglehub\n",
        "import os\n",
        "import pandas as pd\n",
        "import spacy"
      ],
      "metadata": {
        "id": "ECTkjNrzhsra"
      },
      "execution_count": null,
      "outputs": []
    },
    {
      "cell_type": "markdown",
      "source": [
        "**Downloading the metadata.csv for CORD-19**."
      ],
      "metadata": {
        "id": "Dvsw5e1wilO-"
      }
    },
    {
      "cell_type": "code",
      "execution_count": null,
      "metadata": {
        "colab": {
          "base_uri": "https://localhost:8080/"
        },
        "id": "2w_jIVnqhZuL",
        "outputId": "3df3cbf1-04cf-47e9-ce96-df8072d40ee7"
      },
      "outputs": [
        {
          "output_type": "stream",
          "name": "stdout",
          "text": [
            "Downloading from https://www.kaggle.com/api/v1/datasets/download/googleai/dataset-metadata-for-cord19?dataset_version_number=1...\n"
          ]
        },
        {
          "output_type": "stream",
          "name": "stderr",
          "text": [
            "100%|██████████| 5.89M/5.89M [00:00<00:00, 90.4MB/s]"
          ]
        },
        {
          "output_type": "stream",
          "name": "stdout",
          "text": [
            "Extracting files...\n"
          ]
        },
        {
          "output_type": "stream",
          "name": "stderr",
          "text": [
            "\n"
          ]
        },
        {
          "output_type": "stream",
          "name": "stdout",
          "text": [
            "Path to dataset files: /root/.cache/kagglehub/datasets/googleai/dataset-metadata-for-cord19/versions/1\n"
          ]
        }
      ],
      "source": [
        "\n",
        "path = kagglehub.dataset_download(\"googleai/dataset-metadata-for-cord19\")\n",
        "\n",
        "print(\"Path to dataset files:\", path)"
      ]
    },
    {
      "cell_type": "code",
      "source": [
        "os.listdir(path)"
      ],
      "metadata": {
        "colab": {
          "base_uri": "https://localhost:8080/"
        },
        "id": "01Yo_wL2hbVR",
        "outputId": "e313a50f-c921-451d-ee05-0fb7121aa72b"
      },
      "execution_count": null,
      "outputs": [
        {
          "output_type": "execute_result",
          "data": {
            "text/plain": [
              "['CORD19 datasets - Sheet 1.csv']"
            ]
          },
          "metadata": {},
          "execution_count": 5
        }
      ]
    },
    {
      "cell_type": "code",
      "source": [
        "filename_with_path = path + \"/\" + os.listdir(path)[0]\n",
        "filename_with_path"
      ],
      "metadata": {
        "colab": {
          "base_uri": "https://localhost:8080/",
          "height": 35
        },
        "id": "XP3tiCoXhrye",
        "outputId": "ab7b3f93-657b-49f8-def3-64a0e33af5c4"
      },
      "execution_count": null,
      "outputs": [
        {
          "output_type": "execute_result",
          "data": {
            "text/plain": [
              "'/root/.cache/kagglehub/datasets/googleai/dataset-metadata-for-cord19/versions/1/CORD19 datasets - Sheet 1.csv'"
            ],
            "application/vnd.google.colaboratory.intrinsic+json": {
              "type": "string"
            }
          },
          "metadata": {},
          "execution_count": 6
        }
      ]
    },
    {
      "cell_type": "code",
      "source": [
        "df_meta_cord19 = pd.read_csv(filename_with_path)"
      ],
      "metadata": {
        "id": "U_VCnZ1ph00R"
      },
      "execution_count": null,
      "outputs": []
    },
    {
      "cell_type": "code",
      "source": [
        "df_meta_cord19 = df_meta_cord19[df_meta_cord19['description'].notnull()]"
      ],
      "metadata": {
        "id": "r67R4EJ1h5KV"
      },
      "execution_count": null,
      "outputs": []
    },
    {
      "cell_type": "markdown",
      "source": [
        "**Extracting keywords from  *description* column.**"
      ],
      "metadata": {
        "id": "tXuNImL9ioBp"
      }
    },
    {
      "cell_type": "code",
      "source": [
        "nlp = spacy.load(\"en_core_web_sm\")"
      ],
      "metadata": {
        "id": "vX9WPQ91iwzN"
      },
      "execution_count": 13,
      "outputs": []
    },
    {
      "cell_type": "code",
      "source": [
        "def spacy_keywords(text):\n",
        "    if pd.isna(text):\n",
        "        return []\n",
        "    doc = nlp(text)\n",
        "    return [chunk.text.lower() for chunk in doc.noun_chunks][:10]"
      ],
      "metadata": {
        "id": "lzOZTf0xkB8w"
      },
      "execution_count": 14,
      "outputs": []
    },
    {
      "cell_type": "code",
      "source": [
        "df_meta_cord19['keywords'] = df_meta_cord19['description'].apply(spacy_keywords)"
      ],
      "metadata": {
        "id": "hPWEz1Q1kH9B"
      },
      "execution_count": 16,
      "outputs": []
    },
    {
      "cell_type": "code",
      "source": [],
      "metadata": {
        "id": "C5GfqJyxkULT"
      },
      "execution_count": 17,
      "outputs": []
    },
    {
      "cell_type": "code",
      "source": [],
      "metadata": {
        "id": "EpqvHsg_l5rk"
      },
      "execution_count": null,
      "outputs": []
    }
  ]
}