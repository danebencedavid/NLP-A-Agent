{
  "nbformat": 4,
  "nbformat_minor": 0,
  "metadata": {
    "colab": {
      "provenance": [],
      "gpuType": "T4",
      "mount_file_id": "1GCzcDrKZr96vAIhkNI2ZW5hOGRrDxjLy",
      "authorship_tag": "ABX9TyMu9Sl1FDiiEJN8QAkOKZMi",
      "include_colab_link": true
    },
    "kernelspec": {
      "name": "python3",
      "display_name": "Python 3"
    },
    "language_info": {
      "name": "python"
    },
    "accelerator": "GPU"
  },
  "cells": [
    {
      "cell_type": "markdown",
      "metadata": {
        "id": "view-in-github",
        "colab_type": "text"
      },
      "source": [
        "<a href=\"https://colab.research.google.com/github/danebencedavid/NLP-A-Agent/blob/master/npl_agent.ipynb\" target=\"_parent\"><img src=\"https://colab.research.google.com/assets/colab-badge.svg\" alt=\"Open In Colab\"/></a>"
      ]
    },
    {
      "cell_type": "markdown",
      "source": [
        "# 🦠 COVID-19 Research Agent\n",
        "A QA Agent answering COVID-19, smoking, and diabetes related questions using graph-powered semantic search.\n",
        "\n"
      ],
      "metadata": {
        "id": "81TF9hPjUYs0"
      }
    },
    {
      "cell_type": "markdown",
      "source": [
        "## **Imports and Downloading metadata of CORD19**"
      ],
      "metadata": {
        "id": "yj_mN0erUnCd"
      }
    },
    {
      "cell_type": "code",
      "source": [
        "import kagglehub\n",
        "import os\n",
        "import pandas as pd\n",
        "from nltk.corpus import wordnet\n",
        "from tqdm import tqdm\n",
        "import re\n",
        "from nltk.stem import WordNetLemmatizer\n",
        "import nltk\n",
        "import requests\n",
        "import numpy as np\n",
        "from sklearn.metrics.pairwise import cosine_similarity\n",
        "from transformers import AutoTokenizer, AutoModel\n",
        "import torch\n",
        "from google.colab import drive\n",
        "import shutil\n",
        "import io\n",
        "from google.colab import files\n",
        "import seaborn as sns\n",
        "import matplotlib.pyplot as plt"
      ],
      "metadata": {
        "id": "n4zGPHC5U0ZD"
      },
      "execution_count": 60,
      "outputs": []
    },
    {
      "cell_type": "code",
      "source": [
        "df = pd.read_csv(\"/content/drive/MyDrive/metadata.csv\",low_memory=False)"
      ],
      "metadata": {
        "id": "U4LenST0WAC5"
      },
      "execution_count": null,
      "outputs": []
    },
    {
      "cell_type": "code",
      "source": [
        "df.to_pickle('/content/drive/MyDrive/df.pkl')"
      ],
      "metadata": {
        "id": "jAuhK3QqdEGu"
      },
      "execution_count": null,
      "outputs": []
    },
    {
      "cell_type": "code",
      "source": [
        "df_meta_cord19 = pd.read_pickle('/content/drive/MyDrive/df.pkl')"
      ],
      "metadata": {
        "id": "cSGKa-UMZO1d"
      },
      "execution_count": 2,
      "outputs": []
    },
    {
      "cell_type": "code",
      "source": [
        "print(f\"Initial dataframe shape: {df_meta_cord19.shape}\")"
      ],
      "metadata": {
        "id": "Fime_7oSqZV_",
        "colab": {
          "base_uri": "https://localhost:8080/"
        },
        "outputId": "bc56b8e5-e08f-45bf-9bf3-1fe860f781a0"
      },
      "execution_count": 3,
      "outputs": [
        {
          "output_type": "stream",
          "name": "stdout",
          "text": [
            "Initial dataframe shape: (1056660, 19)\n"
          ]
        }
      ]
    },
    {
      "cell_type": "code",
      "source": [
        "df_meta_cord19 = df_meta_cord19[df_meta_cord19['abstract'].notnull()].copy()"
      ],
      "metadata": {
        "id": "WXIa0zmYVM0Y"
      },
      "execution_count": 4,
      "outputs": []
    },
    {
      "cell_type": "code",
      "source": [
        "print(f\"Shape: {df_meta_cord19.shape}\")"
      ],
      "metadata": {
        "colab": {
          "base_uri": "https://localhost:8080/"
        },
        "id": "QRXtSc2kdiEP",
        "outputId": "d948d1b7-5db0-48ed-9661-3e38c71da0f1"
      },
      "execution_count": 5,
      "outputs": [
        {
          "output_type": "stream",
          "name": "stdout",
          "text": [
            "Shape: (821116, 19)\n"
          ]
        }
      ]
    },
    {
      "cell_type": "markdown",
      "source": [
        "## **Defining core terms for COVID-19, smoking and diabetes**\n",
        "Terms were gathered from [MeSH](https://www.ncbi.nlm.nih.gov/mesh/2052179/)"
      ],
      "metadata": {
        "id": "Fa3XOLR5WGFz"
      }
    },
    {
      "cell_type": "code",
      "source": [
        "covid_terms = {\n",
        "    \"COVID-19\", \"SARS-CoV-2 infection\", \"coronavirus disease 2019\",\n",
        "    \"2019-nCoV infection\", \"SARS-CoV-2 pathogenesis\", \"COVID-19 comorbidity\",\n",
        "    \"coronavirus respiratory infection\", \"pandemic coronavirus\",\n",
        "    \"post-COVID syndrome\", \"long COVID\", \"spike protein binding\",\n",
        "    \"severe acute respiratory syndrome coronavirus 2\", \"COVID-19 pandemic\",\n",
        "    \"ACE2 receptor binding\", \"viral respiratory infection\"\n",
        "}\n",
        "\n",
        "smoking_terms = {\n",
        "    \"smoking\", \"tobacco use\", \"cigarette smoking\", \"nicotine\",\n",
        "    \"tobacco smoke\", \"secondhand smoke\", \"vaping\", \"e-cigarette\",\n",
        "    \"tobacco dependence\", \"smoking cessation\", \"COPD\",\n",
        "    \"chronic obstructive pulmonary disease\", \"lung inflammation\",\n",
        "    \"tobacco-induced inflammation\", \"smoking-related ACE2 expression\",\n",
        "    \"cigarette smoke exposure\", \"pulmonary fibrosis\",\n",
        "    \"respiratory epithelial damage\", \"nicotine addiction\"\n",
        "}\n",
        "\n",
        "diabetes_terms = {\n",
        "    \"diabetes\",\n",
        "    \"diabetic\",\n",
        "    \"hyperglycemia\",\n",
        "    \"blood sugar\",\n",
        "    \"insulin resistance\",\n",
        "    \"t2dm\",\n",
        "    \"type 2 diabetes mellitus\",\n",
        "    \"non-insulin-dependent diabetes mellitus\",\n",
        "    \"niddm\",\n",
        "    \"t1dm\",\n",
        "    \"type 1 diabetes mellitus\",\n",
        "    \"insulin-dependent diabetes mellitus\",\n",
        "    \"iddm\",\n",
        "    \"diabetes mellitus\",\n",
        "    \"glucose metabolism disorders\",\n",
        "    \"blood glucose\",\n",
        "    \"insulin deficiency\",\n",
        "    \"diabetic complications\",\n",
        "    \"diabetic retinopathy\",\n",
        "    \"diabetic neuropathy\",\n",
        "    \"diabetic nephropathy\",\n",
        "    \"cardiovascular disease and diabetes\",\n",
        "    \"prediabetes\",\n",
        "    \"gestational diabetes\"\n",
        "}\n",
        "\n",
        "\n"
      ],
      "metadata": {
        "id": "t5AhmtwQX8GD"
      },
      "execution_count": 6,
      "outputs": []
    },
    {
      "cell_type": "markdown",
      "source": [
        "## **Semantic filtering based on Descriptions (abstracts)**"
      ],
      "metadata": {
        "id": "2nlzaEDoamk0"
      }
    },
    {
      "cell_type": "code",
      "source": [
        "if torch.cuda.is_available():\n",
        "    torch.cuda.empty_cache()"
      ],
      "metadata": {
        "id": "HUlPt8FNSwVH"
      },
      "execution_count": 7,
      "outputs": []
    },
    {
      "cell_type": "code",
      "source": [
        "drive.mount('/content/drive')"
      ],
      "metadata": {
        "colab": {
          "base_uri": "https://localhost:8080/",
          "height": 141
        },
        "id": "o7VMnvOgUXgX",
        "outputId": "ff05c234-761c-4345-84da-4369c022f6f6",
        "collapsed": true
      },
      "execution_count": null,
      "outputs": [
        {
          "output_type": "error",
          "ename": "NameError",
          "evalue": "name 'drive' is not defined",
          "traceback": [
            "\u001b[0;31m---------------------------------------------------------------------------\u001b[0m",
            "\u001b[0;31mNameError\u001b[0m                                 Traceback (most recent call last)",
            "\u001b[0;32m<ipython-input-1-3b8a479202a4>\u001b[0m in \u001b[0;36m<cell line: 0>\u001b[0;34m()\u001b[0m\n\u001b[0;32m----> 1\u001b[0;31m \u001b[0mdrive\u001b[0m\u001b[0;34m.\u001b[0m\u001b[0mmount\u001b[0m\u001b[0;34m(\u001b[0m\u001b[0;34m'/content/drive'\u001b[0m\u001b[0;34m)\u001b[0m\u001b[0;34m\u001b[0m\u001b[0;34m\u001b[0m\u001b[0m\n\u001b[0m",
            "\u001b[0;31mNameError\u001b[0m: name 'drive' is not defined"
          ]
        }
      ]
    },
    {
      "cell_type": "code",
      "source": [
        "from sentence_transformers import SentenceTransformer\n",
        "model = SentenceTransformer(\"sentence-transformers/paraphrase-MiniLM-L6-v2\")\n",
        "\n",
        "def get_embeddings(texts, batch_size=128):\n",
        "    return model.encode(texts, batch_size=batch_size, show_progress_bar=True)\n",
        "\n",
        "def get_embeddings_incremental_save(texts, output_dir=\"abstract_embeddings\", batch_size=128, start_index=0):\n",
        "    os.makedirs(output_dir, exist_ok=True)\n",
        "\n",
        "    for i in tqdm(range(start_index, len(texts), batch_size), desc=\"Encoding\"):\n",
        "        batch_texts = texts[i:i + batch_size]\n",
        "        embeddings_batch = model.encode(batch_texts)\n",
        "\n",
        "        # Save batch\n",
        "        output_path = os.path.join(output_dir, f\"embeddings_batch_{i//batch_size}.npy\")\n",
        "        np.save(output_path, embeddings_batch)\n",
        "\n",
        "    # Load all saved embeddings (same as before)\n",
        "    all_files = sorted([f for f in os.listdir(output_dir) if f.endswith(\".npy\")],\n",
        "                      key=lambda x: int(x.split('_')[-1].split('.')[0]))\n",
        "    return np.concatenate([np.load(os.path.join(output_dir, f)) for f in all_files], axis=0)\n",
        "\n",
        "smoking_embeddings = model.encode(list(smoking_terms))\n",
        "covid_embeddings = model.encode(list(covid_terms))\n",
        "diabetes_embeddings = model.encode(list(diabetes_terms))\n",
        "\n",
        "abstracts = df_meta_cord19['abstract'].tolist()\n",
        "abstract_embeddings = get_embeddings_incremental_save(abstracts, output_dir=\"/content/drive/MyDrive/abs_embeddings\")"
      ],
      "metadata": {
        "colab": {
          "base_uri": "https://localhost:8080/"
        },
        "id": "UE7C_9fsfdg0",
        "outputId": "ff89e0bf-2845-4331-f331-4108332d0d14"
      },
      "execution_count": 12,
      "outputs": [
        {
          "output_type": "stream",
          "name": "stderr",
          "text": [
            "Encoding: 100%|██████████| 6415/6415 [1:05:18<00:00,  1.64it/s]\n"
          ]
        }
      ]
    },
    {
      "cell_type": "code",
      "source": [
        "output_drive_dir = \"/content/drive/MyDrive/abs_embeddings\"\n",
        "all_loaded = []\n",
        "for f in sorted([f for f in os.listdir(output_drive_dir) if f.endswith(\".npy\")],\n",
        "                key=lambda x: int(x.split('_')[-1].split('.')[0])):\n",
        "    all_loaded.append(np.load(os.path.join(output_drive_dir, f)))\n",
        "abstract_embeddings = np.concatenate(all_loaded, axis=0) if all_loaded else np.array([])"
      ],
      "metadata": {
        "id": "JCUaVYbCLh8a"
      },
      "execution_count": 13,
      "outputs": []
    },
    {
      "cell_type": "code",
      "source": [
        "def batch_cosine_similarity(query_embeddings, target_embeddings, batch_size=1000):\n",
        "    similarities = []\n",
        "    for i in range(0, len(target_embeddings), batch_size):\n",
        "        batch = target_embeddings[i:i+batch_size]\n",
        "        sim_batch = cosine_similarity(batch, query_embeddings)\n",
        "        similarities.append(sim_batch)\n",
        "    return np.concatenate(similarities, axis=0)"
      ],
      "metadata": {
        "id": "9sjdjfUAL3Rd"
      },
      "execution_count": 14,
      "outputs": []
    },
    {
      "cell_type": "code",
      "source": [
        "print(\"Calculating smoking relevance...\")\n",
        "smoking_similarities = batch_cosine_similarity(smoking_embeddings, abstract_embeddings)\n",
        "max_smoking_sim = np.max(smoking_similarities, axis=1)\n",
        "\n",
        "print(\"Calculating COVID relevance...\")\n",
        "covid_similarities = batch_cosine_similarity(covid_embeddings, abstract_embeddings)\n",
        "max_covid_sim = np.max(covid_similarities, axis=1)\n",
        "\n",
        "print(\"Calculating diabetes relevance...\")\n",
        "diabetes_similarities = batch_cosine_similarity(diabetes_embeddings, abstract_embeddings)\n",
        "max_diabetes_sim = np.max(diabetes_similarities, axis=1)\n"
      ],
      "metadata": {
        "colab": {
          "base_uri": "https://localhost:8080/"
        },
        "id": "vbXo17V2L5wA",
        "outputId": "b3b35a9f-758a-43ab-ce52-8b977c374b2b"
      },
      "execution_count": 15,
      "outputs": [
        {
          "output_type": "stream",
          "name": "stdout",
          "text": [
            "Calculating smoking relevance...\n",
            "Calculating COVID relevance...\n",
            "Calculating diabetes relevance...\n"
          ]
        }
      ]
    },
    {
      "cell_type": "code",
      "source": [
        "print(\"Shape of max_smoking_sim:\", max_smoking_sim.shape)\n",
        "print(\"Shape of max_covid_sim:\", max_covid_sim.shape)\n",
        "print(\"Shape of max_diabetes_sim:\", max_diabetes_sim.shape)\n"
      ],
      "metadata": {
        "colab": {
          "base_uri": "https://localhost:8080/"
        },
        "id": "3XU4beaSMCdc",
        "outputId": "7562d601-f582-47a9-e161-fc1a5e93cd78"
      },
      "execution_count": 16,
      "outputs": [
        {
          "output_type": "stream",
          "name": "stdout",
          "text": [
            "Shape of max_smoking_sim: (821116,)\n",
            "Shape of max_covid_sim: (821116,)\n",
            "Shape of max_diabetes_sim: (821116,)\n"
          ]
        }
      ]
    },
    {
      "cell_type": "code",
      "source": [
        "weight_smoking = 0.65\n",
        "weight_covid = 0.35\n",
        "#weight_diabetes = 0.3\n",
        "combined_scores = (weight_smoking * max_smoking_sim +\n",
        "                   weight_covid * max_covid_sim) #+\n",
        "                   #weight_diabetes * max_diabetes_sim)\n",
        "threshold = np.percentile(combined_scores, 99.99)"
      ],
      "metadata": {
        "id": "jm6Q6zdyMD9v"
      },
      "execution_count": 86,
      "outputs": []
    },
    {
      "cell_type": "code",
      "source": [
        "mean_score = np.mean(combined_scores)\n",
        "std_score = np.std(combined_scores)\n",
        "threshold = 1.41*(mean_score + 2 * std_score)"
      ],
      "metadata": {
        "id": "mSBcZ9YjOxWC"
      },
      "execution_count": 99,
      "outputs": []
    },
    {
      "cell_type": "code",
      "source": [
        "relevant_mask = combined_scores >= threshold\n",
        "relevant_papers = df_meta_cord19.iloc[relevant_mask].copy()\n",
        "relevant_papers['smoking_score'] = max_smoking_sim[relevant_mask]\n",
        "relevant_papers['covid_score'] = max_covid_sim[relevant_mask]\n",
        "#relevant_papers['diabetes_score'] = max_diabetes_sim[relevant_mask]\n",
        "relevant_papers['combined_score'] = combined_scores[relevant_mask]\n"
      ],
      "metadata": {
        "id": "BvvdRw1FoK1g"
      },
      "execution_count": 100,
      "outputs": []
    },
    {
      "cell_type": "code",
      "source": [
        "print(f\"Found {len(relevant_papers)} relevant papers (threshold: {threshold:.3f})\")"
      ],
      "metadata": {
        "colab": {
          "base_uri": "https://localhost:8080/"
        },
        "id": "m_ex0KmAMnvB",
        "outputId": "1d643b5c-8052-41bc-ed42-2161d4f6ec1d"
      },
      "execution_count": 101,
      "outputs": [
        {
          "output_type": "stream",
          "name": "stdout",
          "text": [
            "Found 44 relevant papers (threshold: 0.658)\n"
          ]
        }
      ]
    },
    {
      "cell_type": "code",
      "source": [
        "sns.histplot(combined_scores, kde=True, bins=50)\n",
        "plt.xlabel(\"Combined Relevance Score\")\n",
        "plt.ylabel(\"Density\")\n",
        "plt.title(\"Distribution of Combined Relevance Scores\")\n",
        "plt.show()"
      ],
      "metadata": {
        "colab": {
          "base_uri": "https://localhost:8080/",
          "height": 472
        },
        "id": "3KnpVXsNOYgr",
        "outputId": "d90d7c12-ea9a-4db5-ac3e-0e6e885db1ce"
      },
      "execution_count": 102,
      "outputs": [
        {
          "output_type": "display_data",
          "data": {
            "text/plain": [
              "<Figure size 640x480 with 1 Axes>"
            ],
            "image/png": "[encoded data removed]"
          },
          "metadata": {}
        }
      ]
    },
    {
      "cell_type": "code",
      "source": [
        "relevant_papers.to_csv(\"/content/drive/MyDrive/relevant_papers_4.csv\", index=False)"
      ],
      "metadata": {
        "id": "jQ1tklVtMo3I"
      },
      "execution_count": 103,
      "outputs": []
    },
    {
      "cell_type": "code",
      "source": [
        "relevant_papers"
      ],
      "metadata": {
        "id": "djBHnQf3NATs"
      },
      "execution_count": null,
      "outputs": []
    }
  ]
}